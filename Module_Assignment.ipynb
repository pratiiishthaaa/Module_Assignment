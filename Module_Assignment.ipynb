{
 "cells": [
  {
   "cell_type": "raw",
   "id": "055da4e3-5705-4b07-995c-a8facfeae05a",
   "metadata": {},
   "source": [
    "Module Assignment"
   ]
  },
  {
   "cell_type": "code",
   "execution_count": 1,
   "id": "026433da-79c4-407a-b7dc-7e201d2a5bed",
   "metadata": {},
   "outputs": [],
   "source": [
    "#Question 1.3. name=[\"Mohan\",\"dash\",\"Karam\",\"chandra\",\"gandhi\",\"Bapu\"] do the following operations in this list.\n",
    "name=[\"Mohan\",\"dash\",\"Karam\",\"chandra\",\"gandhi\",\"Bapu\"] "
   ]
  },
  {
   "cell_type": "code",
   "execution_count": 2,
   "id": "2fbb4d43-2f13-4be6-8509-2bcabead4815",
   "metadata": {},
   "outputs": [
    {
     "data": {
      "text/plain": [
       "['Mohan', 'dash', 'Karam', 'chandra', 'gandhi', 'Bapu']"
      ]
     },
     "execution_count": 2,
     "metadata": {},
     "output_type": "execute_result"
    }
   ],
   "source": [
    "name"
   ]
  },
  {
   "cell_type": "code",
   "execution_count": 3,
   "id": "f70e02db-ef6c-4477-90fe-7aa53217d755",
   "metadata": {},
   "outputs": [
    {
     "data": {
      "text/plain": [
       "['freedom_fighter', 'Mohan', 'dash', 'Karam', 'chandra', 'gandhi', 'Bapu']"
      ]
     },
     "execution_count": 3,
     "metadata": {},
     "output_type": "execute_result"
    }
   ],
   "source": [
    "#a)add an element \"freedom_fighter\" in this at the 0th index.\n",
    "name.insert(0,'freedom_fighter')\n",
    "name"
   ]
  },
  {
   "cell_type": "code",
   "execution_count": 4,
   "id": "82c95587-b612-40a7-a6c2-3cb429a94c09",
   "metadata": {},
   "outputs": [
    {
     "name": "stdout",
     "output_type": "stream",
     "text": [
      "8\n"
     ]
    }
   ],
   "source": [
    "#b) find the output of the following , and explain how?\n",
    "name=[\"freedom_flighter\",\"Bapuji\",\"M0han\",\"dash\",\"karam\",\"chandra\",\"gandhi\"]\n",
    "length1 = len((name[-len(name)+1:-1:2]))\n",
    "length2=len((name[-len(name)+1:-1]))\n",
    "print(length1+length2)"
   ]
  },
  {
   "cell_type": "code",
   "execution_count": 5,
   "id": "fa20dd13-c869-4007-9106-ce11c669821f",
   "metadata": {},
   "outputs": [
    {
     "data": {
      "text/plain": [
       "['freedom_flighter', 'Bapuji', 'M0han', 'dash', 'karam', 'chandra', 'gandhi']"
      ]
     },
     "execution_count": 5,
     "metadata": {},
     "output_type": "execute_result"
    }
   ],
   "source": [
    "#c) add two more elements in the name [\"Netaji\",\"Bose\"] at the end of the list.\n",
    "name"
   ]
  },
  {
   "cell_type": "code",
   "execution_count": 6,
   "id": "6021010b-f4cb-4651-a137-abf2cbae06be",
   "metadata": {},
   "outputs": [],
   "source": [
    "name.append(\"Netaji\")\n",
    "name.append(\"Bose\")"
   ]
  },
  {
   "cell_type": "code",
   "execution_count": 7,
   "id": "9f6b754f-8753-4512-98a8-89aa0fd0e8cb",
   "metadata": {},
   "outputs": [
    {
     "data": {
      "text/plain": [
       "['freedom_flighter',\n",
       " 'Bapuji',\n",
       " 'M0han',\n",
       " 'dash',\n",
       " 'karam',\n",
       " 'chandra',\n",
       " 'gandhi',\n",
       " 'Netaji',\n",
       " 'Bose']"
      ]
     },
     "execution_count": 7,
     "metadata": {},
     "output_type": "execute_result"
    }
   ],
   "source": [
    "name"
   ]
  },
  {
   "cell_type": "code",
   "execution_count": 8,
   "id": "43f384f4-0a3c-4262-a0eb-188de67ea1e8",
   "metadata": {},
   "outputs": [
    {
     "name": "stdout",
     "output_type": "stream",
     "text": [
      "['mohan', 'dash', 'karam', 'chandra', 'gandi', 'Bapuji']\n"
     ]
    }
   ],
   "source": [
    "#d) what will be the value of temp:\n",
    "name = [\"Bapuji\",\"dash\",\"karam\",\"chandra\",\"gandi\",\"mohan\"]\n",
    "temp = name[-1]\n",
    "name[-1] = name[0]\n",
    "name[0] = temp\n",
    "print(name)"
   ]
  },
  {
   "cell_type": "code",
   "execution_count": 9,
   "id": "e4c127b8-a227-452d-88d2-4e858108c392",
   "metadata": {},
   "outputs": [
    {
     "name": "stdout",
     "output_type": "stream",
     "text": [
      "1\n",
      "4\n",
      "7\n"
     ]
    }
   ],
   "source": [
    "#Question 1.4. Find the output of the following.\n",
    "animal=[\"Human\",\"cat\",\"mat\",\"cat\",\"rat\",\"human\",\"Lion\"]\n",
    "print(animal.count(\"Human\"))\n",
    "print(animal.index(\"rat\"))\n",
    "print(len(animal))"
   ]
  },
  {
   "cell_type": "code",
   "execution_count": 10,
   "id": "0a07b22e-6da7-4eaf-8d32-f517d983263e",
   "metadata": {},
   "outputs": [
    {
     "data": {
      "text/plain": [
       "(10,\n",
       " 20,\n",
       " 'Apple',\n",
       " 3.4,\n",
       " 'a',\n",
       " ['master', 'ji'],\n",
       " ('sita', 'geeta'),\n",
       " {'name': 'Navneet'})"
      ]
     },
     "execution_count": 10,
     "metadata": {},
     "output_type": "execute_result"
    }
   ],
   "source": [
    "#Question 1.5. Tuple1=(10,20,\"Apple\",3.4,'a',[\"master\",\"ji\",],(\"sita\",\"geeta\"),{\"name\":\"Navneet\"}])\n",
    "Tuple1=(10,20,\"Apple\",3.4,'a',[\"master\",\"ji\",],(\"sita\",\"geeta\"),{\"name\":\"Navneet\"})\n",
    "Tuple1"
   ]
  },
  {
   "cell_type": "code",
   "execution_count": 11,
   "id": "4da69c42-8e06-4c8a-9aa0-a5eef24e5fa6",
   "metadata": {},
   "outputs": [
    {
     "name": "stdout",
     "output_type": "stream",
     "text": [
      "8\n"
     ]
    }
   ],
   "source": [
    "#a)print(len(Tuple1))\n",
    "print(len(Tuple1))"
   ]
  },
  {
   "cell_type": "code",
   "execution_count": 12,
   "id": "feaa5718-1f32-4f59-b6e0-19fc494f76ea",
   "metadata": {},
   "outputs": [
    {
     "name": "stdout",
     "output_type": "stream",
     "text": [
      "Navneet\n"
     ]
    }
   ],
   "source": [
    "print(Tuple1[-1][\"name\"])"
   ]
  },
  {
   "cell_type": "code",
   "execution_count": 13,
   "id": "13de02b9-5e92-4e5b-b169-148030dfe7e8",
   "metadata": {},
   "outputs": [
    {
     "data": {
      "text/plain": [
       "(10,\n",
       " 20,\n",
       " 'Apple',\n",
       " 3.4,\n",
       " 'a',\n",
       " ['master', 'ji'],\n",
       " ('sita', 'geeta'),\n",
       " {'name': 'Navneet', 'roll_no': 123})"
      ]
     },
     "execution_count": 13,
     "metadata": {},
     "output_type": "execute_result"
    }
   ],
   "source": [
    "#c)fetch the value of roll_no from this tuple.\n",
    "\n",
    "Tuple1[7][\"roll_no\"] = 123\n",
    "Tuple1"
   ]
  },
  {
   "cell_type": "code",
   "execution_count": 14,
   "id": "b0ee6efd-619c-46d8-af67-0cdc54f0174f",
   "metadata": {},
   "outputs": [
    {
     "name": "stdout",
     "output_type": "stream",
     "text": [
      "ji\n"
     ]
    }
   ],
   "source": [
    "#print(Tuple1[-3][1])\n",
    "print(Tuple1[-3][1])"
   ]
  },
  {
   "cell_type": "code",
   "execution_count": 15,
   "id": "b890293f-e21e-46a4-b95d-94db7fa2ebd0",
   "metadata": {},
   "outputs": [
    {
     "data": {
      "text/plain": [
       "[10,\n",
       " 20,\n",
       " 'Apple',\n",
       " 3.4,\n",
       " 'a',\n",
       " ['master', 'ji'],\n",
       " ('sita', 'geeta'),\n",
       " {'name': 'Navneet', 'roll_no': 123}]"
      ]
     },
     "execution_count": 15,
     "metadata": {},
     "output_type": "execute_result"
    }
   ],
   "source": [
    "#fetch the element \"22\" from this tuple.\n",
    "list=list(Tuple1)\n",
    "list"
   ]
  },
  {
   "cell_type": "code",
   "execution_count": 16,
   "id": "59573c89-ab04-41ff-938b-29b4e2e19038",
   "metadata": {},
   "outputs": [],
   "source": [
    "list.insert(2,22)"
   ]
  },
  {
   "cell_type": "code",
   "execution_count": 17,
   "id": "9e19e14b-e702-4c74-b10d-da92fd2506dd",
   "metadata": {},
   "outputs": [
    {
     "data": {
      "text/plain": [
       "[10,\n",
       " 20,\n",
       " 22,\n",
       " 'Apple',\n",
       " 3.4,\n",
       " 'a',\n",
       " ['master', 'ji'],\n",
       " ('sita', 'geeta'),\n",
       " {'name': 'Navneet', 'roll_no': 123}]"
      ]
     },
     "execution_count": 17,
     "metadata": {},
     "output_type": "execute_result"
    }
   ],
   "source": [
    "list"
   ]
  },
  {
   "cell_type": "code",
   "execution_count": 18,
   "id": "ee1fadc4-fafc-4abd-8056-57d6a552269c",
   "metadata": {},
   "outputs": [],
   "source": [
    "Tuple1=tuple(list)"
   ]
  },
  {
   "cell_type": "code",
   "execution_count": 19,
   "id": "556653eb-d3ba-45a5-a30b-f6806b295e35",
   "metadata": {},
   "outputs": [
    {
     "data": {
      "text/plain": [
       "(10,\n",
       " 20,\n",
       " 22,\n",
       " 'Apple',\n",
       " 3.4,\n",
       " 'a',\n",
       " ['master', 'ji'],\n",
       " ('sita', 'geeta'),\n",
       " {'name': 'Navneet', 'roll_no': 123})"
      ]
     },
     "execution_count": 19,
     "metadata": {},
     "output_type": "execute_result"
    }
   ],
   "source": [
    "Tuple1"
   ]
  },
  {
   "cell_type": "code",
   "execution_count": 20,
   "id": "8976ddea-0f20-4d46-9010-d835eb24bcda",
   "metadata": {},
   "outputs": [
    {
     "data": {
      "text/plain": [
       "22"
      ]
     },
     "execution_count": 20,
     "metadata": {},
     "output_type": "execute_result"
    }
   ],
   "source": [
    "Tuple1[2]"
   ]
  },
  {
   "cell_type": "code",
   "execution_count": 21,
   "id": "01e2bf93-5cdc-4558-8c31-5f32fe402449",
   "metadata": {},
   "outputs": [
    {
     "name": "stdin",
     "output_type": "stream",
     "text": [
      "enterr the color of the siganl(Red/Yello/Green): Red\n"
     ]
    },
    {
     "name": "stdout",
     "output_type": "stream",
     "text": [
      "invalid signal color\n"
     ]
    }
   ],
   "source": [
    "#Question 1.6. write a program to display the appropriate message as per the color of signal(RED-Stop/Yellow-Stay/Green-Go) of the road crossing.\n",
    "def traffic_signal_message(singal_color):\n",
    "    if signal_color.lower() == \"RED\":\n",
    "        return \"Stop\"\n",
    "    elif signal_color.lower() == \"Yellow\":\n",
    "        return \"Stay\"\n",
    "    elif signal_color.lower() == \"Green\":\n",
    "        return \"Go\"\n",
    "    else:\n",
    "        return \"invalid signal color\"\n",
    "signal_color=input(\"enterr the color of the siganl(Red/Yello/Green):\")\n",
    "message=traffic_signal_message(signal_color)\n",
    "print(message)"
   ]
  },
  {
   "cell_type": "code",
   "execution_count": 22,
   "id": "aef14db7-46de-4f8b-9f7a-5de1dabb123d",
   "metadata": {},
   "outputs": [
    {
     "name": "stdout",
     "output_type": "stream",
     "text": [
      "select operrations:\n",
      "1.add:\n",
      "2.substract.\n",
      "3.multiply.\n",
      "4.Divide.\n"
     ]
    },
    {
     "name": "stdin",
     "output_type": "stream",
     "text": [
      "enter choice(1/2/3/4): 1\n",
      "enter first number: 23\n",
      "enter second number: 34\n"
     ]
    },
    {
     "name": "stdout",
     "output_type": "stream",
     "text": [
      "the result is: 57.0\n"
     ]
    },
    {
     "name": "stdin",
     "output_type": "stream",
     "text": [
      "do you want to perform another calculaition?(yes/no): no\n"
     ]
    }
   ],
   "source": [
    "#1.7. write a program to create a simple calculate performing only four basic operations(+,-,/,*)\n",
    "def add(a,b):\n",
    "    return a + b\n",
    "def substract(a,b):\n",
    "    return a - b\n",
    "def multiply(a,b):\n",
    "    return a * b\n",
    "def divide(a,b):\n",
    "    if b != 0:\n",
    "        return a / b\n",
    "    else:\n",
    "        return \"Error! Division by zero.\"\n",
    "def calculator():\n",
    "    print(\"select operrations:\")\n",
    "    print(\"1.add:\")\n",
    "    print(\"2.substract.\")\n",
    "    print(\"3.multiply.\")\n",
    "    print(\"4.Divide.\")\n",
    "    while True:\n",
    "        choice = input(\"enter choice(1/2/3/4):\")\n",
    "        if choice in ['1','2','3','4']:\n",
    "            num1 = float(input(\"enter first number:\"))\n",
    "            num2 = float(input(\"enter second number:\"))\n",
    "            if choice == '1':\n",
    "                print(f\"the result is: {add(num1,num2)}\")\n",
    "            elif choice == '2':\n",
    "                print(f\"the result is: {substract(num1,num2)}\")\n",
    "            elif choice == '3':\n",
    "                print(f\"the result is: {multiply(num1,num2)}\")\n",
    "            elif choice == '4':\n",
    "                print(f\"the result is: {divide(num1,num2)}\")\n",
    "            next_calculation =input(\"do you want to perform another calculaition?(yes/no):\")\n",
    "            if next_calculation.lower() != 'yes':\n",
    "                break\n",
    "        else:\n",
    "            print(\"invalid input\")\n",
    "calculator()\n"
   ]
  },
  {
   "cell_type": "code",
   "execution_count": 23,
   "id": "edd7f846-e3ce-465c-9e07-01646320c8ca",
   "metadata": {},
   "outputs": [
    {
     "name": "stdin",
     "output_type": "stream",
     "text": [
      "enter first number: 23\n",
      "enter second number: 34\n",
      "enter third number: 45\n"
     ]
    },
    {
     "name": "stdout",
     "output_type": "stream",
     "text": [
      "45\n"
     ]
    }
   ],
   "source": [
    "#1.8. write a program to find the larger of the three pre-specified numbers using ternary operators.\n",
    "def maximum(a,b,c):\n",
    "    if ( a >= b) and ( a >= c):\n",
    "        largest = a\n",
    "    elif ( b >= a) and (b >= c):\n",
    "        largest = b\n",
    "    else:\n",
    "        largest = c\n",
    "    return largest\n",
    "a=int(input(\"enter first number:\"))\n",
    "b=int(input(\"enter second number:\"))\n",
    "c=int(input(\"enter third number:\"))\n",
    "print(maximum(a,b,c))"
   ]
  },
  {
   "cell_type": "code",
   "execution_count": 24,
   "id": "7b9907fa-f8ab-4f57-93b4-f1141f881b56",
   "metadata": {},
   "outputs": [
    {
     "name": "stdin",
     "output_type": "stream",
     "text": [
      "enter a whole number: 12\n"
     ]
    },
    {
     "name": "stdout",
     "output_type": "stream",
     "text": [
      "the factors of 12 are: [1, 2, 3, 4, 6, 12]\n"
     ]
    }
   ],
   "source": [
    "#1.9. write a program to find the factors of a whole number using a while loop\n",
    "def find_factors(n):\n",
    "    factors=[]\n",
    "    i = 1\n",
    "    while i <= n:\n",
    "        if n % i == 0:\n",
    "            factors.append(i)\n",
    "        i += 1\n",
    "    return factors\n",
    "number=int(input(\"enter a whole number:\"))\n",
    "if number > 0:\n",
    "    factors = find_factors(number)\n",
    "    print(f\"the factors of {number} are: {factors}\")\n",
    "else:\n",
    "    print(\"please enter a positive whole number.\")"
   ]
  },
  {
   "cell_type": "code",
   "execution_count": 25,
   "id": "6d9a5795-f2d7-40e8-b45b-c772e2ec63ae",
   "metadata": {},
   "outputs": [],
   "source": [
    "#1.10. write a program to find the sum of all the positive numbers entered by the user. As soon as the user enters a negative number, stop taking in any further input from the user and display the sum."
   ]
  },
  {
   "cell_type": "code",
   "execution_count": 26,
   "id": "e5a77df1-a5f5-4295-bbd7-dd9d6cd4bd35",
   "metadata": {},
   "outputs": [
    {
     "name": "stdin",
     "output_type": "stream",
     "text": [
      "enter a number: 1\n",
      "enter a number: 2\n",
      "enter a number: 3\n",
      "enter a number: 4\n",
      "enter a number: 5\n",
      "enter a number: 6\n",
      "enter a number: -1\n"
     ]
    },
    {
     "name": "stdout",
     "output_type": "stream",
     "text": [
      "the sum of all positive numbers entered is:21.0\n"
     ]
    }
   ],
   "source": [
    "def sum_of_positive_numbers():\n",
    "    total_sum = 0\n",
    "    while True:\n",
    "        try:\n",
    "            number = float(input(\"enter a number:\"))\n",
    "            if number < 0:\n",
    "                break\n",
    "            total_sum += number\n",
    "        except VAlueerror:\n",
    "            print(\"invalid input,please enter a valid number.\")\n",
    "    print(f\"the sum of all positive numbers entered is:{total_sum}\")\n",
    "sum_of_positive_numbers()"
   ]
  },
  {
   "cell_type": "code",
   "execution_count": 27,
   "id": "2fe93280-5948-428e-afe1-01e5397002b4",
   "metadata": {},
   "outputs": [
    {
     "name": "stdout",
     "output_type": "stream",
     "text": [
      "the prime number:,between 'lower'and 'upper' are:\n",
      "2\n",
      "3\n",
      "5\n",
      "7\n",
      "11\n",
      "13\n",
      "17\n",
      "19\n",
      "23\n",
      "29\n",
      "31\n",
      "37\n",
      "41\n",
      "43\n",
      "47\n",
      "53\n",
      "59\n",
      "61\n",
      "67\n",
      "71\n",
      "73\n",
      "79\n",
      "83\n",
      "89\n",
      "97\n"
     ]
    }
   ],
   "source": [
    "#1.11. write a program to find prime numbers between 2 to 100 using nested for loops.\n",
    "lower = 2\n",
    "upper=100\n",
    "print(\"the prime number:,between 'lower'and 'upper' are:\")\n",
    "for num in range(lower,upper+1):\n",
    "    if num > 1:\n",
    "        for i in range(2, num):\n",
    "            if (num % i) == 0:\n",
    "                break\n",
    "        else:\n",
    "            print(num)"
   ]
  },
  {
   "cell_type": "code",
   "execution_count": 28,
   "id": "10d02134-b6a9-4d23-983d-5022be3dca74",
   "metadata": {},
   "outputs": [],
   "source": [
    "#1.12. write the programs for the following.\n",
    "#Accept the marks of the student in five major subjects and display the same."
   ]
  },
  {
   "cell_type": "code",
   "execution_count": 29,
   "id": "e1510e1c-fd2c-4662-95fe-8f0b688954aa",
   "metadata": {},
   "outputs": [
    {
     "name": "stdin",
     "output_type": "stream",
     "text": [
      "enter the marks for math: 23\n",
      "enter the marks for Science: 34\n",
      "enter the marks for english: 45\n",
      "enter the marks for python: 56\n",
      "enter the marks for Java: 67\n"
     ]
    },
    {
     "name": "stdout",
     "output_type": "stream",
     "text": [
      "\n",
      "marks of the student in five major subjects:\n",
      "math:23.0\n",
      "Science:34.0\n",
      "english:45.0\n",
      "python:56.0\n",
      "Java:67.0\n"
     ]
    }
   ],
   "source": [
    "def accept_and_display_marks():\n",
    "    subjects=[\"math\",\"Science\",\"english\",\"python\",\"Java\"]\n",
    "    marks = {}\n",
    "    for subject in subjects:\n",
    "        while True:\n",
    "            try:\n",
    "                mark = float(input(f\"enter the marks for {subject}:\"))\n",
    "                if mark < 0 or mark > 100:\n",
    "                    print(\"please enter a valid mark between 0 and 100.\")\n",
    "                else:\n",
    "                    marks[subject] = mark\n",
    "                    break\n",
    "            except ValueError:\n",
    "                marks (\"invalid input.please enter a numeric value:\")\n",
    "    print(\"\\nmarks of the student in five major subjects:\")\n",
    "    for subject,mark in marks.items():\n",
    "        print(f\"{subject}:{mark}\")\n",
    "accept_and_display_marks()"
   ]
  },
  {
   "cell_type": "code",
   "execution_count": 30,
   "id": "7eec1dff-28b9-433e-b372-c14627a8755f",
   "metadata": {},
   "outputs": [],
   "source": [
    "#Calculate the sum of the marks of all subjects .Divide the total marks by number of subjects ,calculatepercentage = total marks / 5 and display the percentage."
   ]
  },
  {
   "cell_type": "code",
   "execution_count": 31,
   "id": "c790182f-d79a-46ad-ae48-8112a980fd9f",
   "metadata": {},
   "outputs": [
    {
     "name": "stdin",
     "output_type": "stream",
     "text": [
      "enter the marks for math: 34\n",
      "enter the marks for Science: 45\n",
      "enter the marks for english: 56\n",
      "enter the marks for python: 67\n",
      "enter the marks for Java: 78\n"
     ]
    },
    {
     "name": "stdout",
     "output_type": "stream",
     "text": [
      "\n",
      "marks of the student in five major subjects:\n",
      "math:34.0\n",
      "Science:45.0\n",
      "english:56.0\n",
      "python:67.0\n",
      "Java:78.0\n",
      "\n",
      "Total marks:280.0\n",
      "percentage: 56.00%\n"
     ]
    }
   ],
   "source": [
    "def accept_and_display_marks():\n",
    "    subjects=[\"math\",\"Science\",\"english\",\"python\",\"Java\"]\n",
    "    marks = {}\n",
    "    total_marks = 0\n",
    "    for subject in subjects:\n",
    "        while True:\n",
    "            try:\n",
    "                mark = float(input(f\"enter the marks for {subject}:\"))\n",
    "                if mark < 0 or mark > 100:\n",
    "                    print(\"please enter a valid mark between 0 and 100.\")\n",
    "                else:\n",
    "                    marks[subject] = mark\n",
    "                    total_marks += mark\n",
    "                    break\n",
    "            except ValueError:\n",
    "                print(\"invalid input.please enter a numeric value:\")\n",
    "        number_subjects = len(subjects)\n",
    "        percentage = total_marks /number_subjects\n",
    "    print(\"\\nmarks of the student in five major subjects:\")\n",
    "    for subject,mark in marks.items():\n",
    "        print(f\"{subject}:{mark}\")\n",
    "    print(f\"\\nTotal marks:{total_marks}\")\n",
    "    print(f\"percentage: {percentage:.2f}%\")\n",
    "accept_and_display_marks()"
   ]
  },
  {
   "cell_type": "code",
   "execution_count": null,
   "id": "5da9650d-2614-45e7-a7e0-ca15dd5a6fe2",
   "metadata": {},
   "outputs": [],
   "source": [
    "#find the grade of the student as perr the following criteria .\n",
    "percentage > 85  grade = A\n",
    "percentage<85 && percentage >= 75  grade B\n",
    "percentage < 75 && percentage >= 50 grade C\n",
    "percentage > 30 && percentage <= 50 grade D\n",
    "percentage < 30 Reappear."
   ]
  },
  {
   "cell_type": "code",
   "execution_count": 34,
   "id": "4d74b4e7-57de-4f60-a5af-a3562384cb85",
   "metadata": {},
   "outputs": [
    {
     "name": "stdin",
     "output_type": "stream",
     "text": [
      "enter the marks for math: 45\n",
      "enter the marks for Science: 56\n",
      "enter the marks for english: 65\n",
      "enter the marks for python: 67\n",
      "enter the marks for Java: 78\n"
     ]
    },
    {
     "name": "stdout",
     "output_type": "stream",
     "text": [
      "\n",
      "marks of the student in five major subjects:\n",
      "math:45.0\n",
      "Science:56.0\n",
      "english:65.0\n",
      "python:67.0\n",
      "Java:78.0\n",
      "\n",
      "Total marks:311.0\n",
      "percentage: 62.20%\n",
      "Grade: C\n"
     ]
    }
   ],
   "source": [
    "def accept_and_display_marks():\n",
    "    subjects=[\"math\",\"Science\",\"english\",\"python\",\"Java\"]\n",
    "    marks = {}\n",
    "    total_marks = 0\n",
    "    for subject in subjects:\n",
    "        while True:\n",
    "            try:\n",
    "                mark = float(input(f\"enter the marks for {subject}:\"))\n",
    "                if mark < 0 or mark > 100:\n",
    "                    print(\"please enter a valid mark between 0 and 100.\")\n",
    "                else:\n",
    "                    marks[subject] = mark\n",
    "                    total_marks += mark\n",
    "                    break\n",
    "            except ValueError:\n",
    "                print(\"invalid input.please enter a numeric value:\")\n",
    "        number_subjects = len(subjects)\n",
    "        percentage = total_marks /number_subjects\n",
    "        if percentage > 85:\n",
    "            grade = 'A'\n",
    "        elif percentage >= 75:\n",
    "            grade = 'B'\n",
    "        elif percentage >= 50:\n",
    "            grade = 'C'\n",
    "        elif percentage > 0:\n",
    "            grade = 'D'\n",
    "        else:\n",
    "            grade= 'Reappear'\n",
    "    print(\"\\nmarks of the student in five major subjects:\")\n",
    "    for subject,mark in marks.items():\n",
    "        print(f\"{subject}:{mark}\")\n",
    "    print(f\"\\nTotal marks:{total_marks}\")\n",
    "    print(f\"percentage: {percentage:.2f}%\")\n",
    "    print(f\"Grade: {grade}\")\n",
    "accept_and_display_marks()"
   ]
  },
  {
   "cell_type": "code",
   "execution_count": null,
   "id": "fed8856b-0884-4769-a011-16b521ee33c6",
   "metadata": {},
   "outputs": [],
   "source": [
    "#1.13 write a progam for VIBGYOR spectrum based on their wavelength using wvaelength range.\n",
    "#Color             wavelength(NM)\n",
    "violet             400.0 - 440.0\n",
    "indigo             440.0 - 460.0\n",
    "Blue               460.0 - 500.0\n",
    "Green              500.0 - 570.0\n",
    "Yellow             570.0 -590.0\n",
    "Orange             590.0 - 620.0\n",
    "Red                620.0 - 720.0"
   ]
  },
  {
   "cell_type": "code",
   "execution_count": 35,
   "id": "bd0272d1-b47f-4d5c-9e87-b40b5b3a574c",
   "metadata": {},
   "outputs": [
    {
     "name": "stdin",
     "output_type": "stream",
     "text": [
      "enter the wavelength (in nm): 588\n"
     ]
    },
    {
     "name": "stdout",
     "output_type": "stream",
     "text": [
      "the color for the wavelength 588.0 nm is Yellow.\n"
     ]
    }
   ],
   "source": [
    "def get_vibgyor_color(wavelength):\n",
    "    if 400.0 <= wavelength <= 440.0:\n",
    "        return 'violet'\n",
    "    elif 440.0 < wavelength <= 460.0:\n",
    "        return 'indigo'\n",
    "    elif 460.0 < wavelength <= 500.0:\n",
    "        return 'Blue'               \n",
    "    elif 500.0 < wavelength <= 570.0:\n",
    "        return 'Green'             \n",
    "    elif 570.0 < wavelength <= 590.0:\n",
    "        return 'Yellow'\n",
    "    elif 590.0 < wavelength <= 620.0:\n",
    "        return 'Orange'\n",
    "    elif 620.0 < wavelength <= 720.0:\n",
    "        return 'Red'\n",
    "    else:\n",
    "        return 'wavelength out of the vibgyor range'\n",
    "wavelength = float(input(\"enter the wavelength (in nm):\"))\n",
    "color = get_vibgyor_color(wavelength)\n",
    "print(f\"the color for the wavelength {wavelength} nm is {color}.\")"
   ]
  },
  {
   "cell_type": "code",
   "execution_count": null,
   "id": "f49394d3-e26d-49f8-b5a5-c8cbf4cbb5da",
   "metadata": {},
   "outputs": [],
   "source": [
    "#1.14. Consider the gravitational interactions between the earth, moon, and sun inmour solar system. Given:\n",
    "mass_earth =5.972e24 # mass of earth in kilograms\n",
    "mass_moon = 7.34767309e22 # mass of moon in kilograms\n",
    "mass_sun = 1.989e30 # mass of sun in kilograms\n",
    "\n",
    "distance_earth_sun = 1.49e11 # average distance between earth and sun in meters.\n",
    "distance_moon_earth = 3.844e8 # average distance between moon and earth in meters.\n",
    "\n",
    "Tasks:\n",
    "# calculate the gravitational force between the earth and the sun.\n",
    "# calculate the gravitational force between the moon and the earth.\n",
    "# compare teh calculated forces to determine which gravitational force is stronger.\n",
    "#explain which celestialbody (earth or moon) is more attracted to the other based on the comparison."
   ]
  },
  {
   "cell_type": "code",
   "execution_count": 36,
   "id": "c4376368-2bc6-47ca-8437-94c889c74b1f",
   "metadata": {},
   "outputs": [],
   "source": [
    "G = 6.67430e-11 \n",
    "mass_earth =5.972e24 \n",
    "mass_moon = 7.34767309e22\n",
    "mass_sun = 1.989e30\n",
    "\n",
    "distance_earth_sun = 1.49e11 \n",
    "distance_moon_earth = 3.844e8"
   ]
  },
  {
   "cell_type": "code",
   "execution_count": 37,
   "id": "cacc1213-7e18-437d-8f43-a635677cdc4a",
   "metadata": {},
   "outputs": [
    {
     "data": {
      "text/plain": [
       "3.5709828874555194e+22"
      ]
     },
     "execution_count": 37,
     "metadata": {},
     "output_type": "execute_result"
    }
   ],
   "source": [
    "# calculate the gravitational force between the earth and the sun.\n",
    "force_earth_sun = G *(mass_earth * mass_sun)/ (distance_earth_sun ** 2)\n",
    "force_earth_sun"
   ]
  },
  {
   "cell_type": "code",
   "execution_count": 38,
   "id": "d6b42fff-3a00-41a8-8213-db2464aa6d08",
   "metadata": {},
   "outputs": [
    {
     "data": {
      "text/plain": [
       "1.9820225456526813e+20"
      ]
     },
     "execution_count": 38,
     "metadata": {},
     "output_type": "execute_result"
    }
   ],
   "source": [
    "# calculate the gravitational force between the moon and the earth.\n",
    "force_moon_earth = G * (mass_moon * mass_earth)/ (distance_moon_earth ** 2)\n",
    "force_moon_earth"
   ]
  },
  {
   "cell_type": "code",
   "execution_count": 39,
   "id": "d02fc810-3e6f-406a-8d01-43dcfd47a902",
   "metadata": {},
   "outputs": [
    {
     "name": "stdout",
     "output_type": "stream",
     "text": [
      "gravitaional force between earth and sun: 3.57e+22 N\n",
      "gravitational force between moon and earth: 1.98e+20N\n",
      "the stronger gravitaional force is :earth_sun\n"
     ]
    }
   ],
   "source": [
    "# compare the calculated forces to determine which gravitational force is stronger.\n",
    "stronger_force = \"earth_sun\" if force_earth_sun > force_moon_earth else \"moon-earth\"\n",
    "print(f\"gravitaional force between earth and sun: {force_earth_sun:.2e} N\")\n",
    "print(f\"gravitational force between moon and earth: {force_moon_earth:.2e}N\")\n",
    "print(f\"the stronger gravitaional force is :{stronger_force}\")"
   ]
  },
  {
   "cell_type": "code",
   "execution_count": 40,
   "id": "3f60253d-e407-4731-b318-3d4ad7f02f7f",
   "metadata": {},
   "outputs": [
    {
     "name": "stdout",
     "output_type": "stream",
     "text": [
      "the earth is more attracted to the sun due to the stronger gravitational force.\n"
     ]
    }
   ],
   "source": [
    "#explain which celestialbody (earth or moon) is more attracted to the other based on the comparison.\n",
    "if stronger_force == \"earth_sun\":\n",
    "    print(\"the earth is more attracted to the sun due to the stronger gravitational force.\")\n",
    "else:\n",
    "    print(\"the moon is more attracted to the earth due to the stronger gravitational force.\")"
   ]
  },
  {
   "cell_type": "code",
   "execution_count": null,
   "id": "752e5ef1-b5a7-494b-87e9-e82ac1094696",
   "metadata": {},
   "outputs": [],
   "source": [
    "#2. design and implement a python program for managing student information using object-oriented principles.create a class called 'Student' wiht encapsualted attributes for name, age, and roll number. \n",
    "implement getter and setter methods for these attributes. Additionally, provide methods to display student information and update student details.\n",
    " Tasks:\n",
    "# define the 'Student' class wiht encapsulated attributes.\n",
    "# implement getter and setter methods for the attributes.\n",
    "# write methods to display student information and update details.\n",
    "# create instances of the 'Student' class and test the implemented functoinallity."
   ]
  },
  {
   "cell_type": "code",
   "execution_count": 41,
   "id": "9b1e0690-81b3-4eb2-a922-380dfe691900",
   "metadata": {},
   "outputs": [],
   "source": [
    "# define the 'Student' class wiht encapsulated attributes.\n",
    "class Student:\n",
    "    def __init__(self, name,age, roll_number):\n",
    "        self.__name = name\n",
    "        self.__age = age\n",
    "        self.__roll_number = roll_number"
   ]
  },
  {
   "cell_type": "code",
   "execution_count": 42,
   "id": "7f1188ca-6694-4e3f-94f7-a2b18835a918",
   "metadata": {},
   "outputs": [],
   "source": [
    "#implement getter methods for the attributes. \n",
    "def get_name(self):\n",
    "    return self.__name\n",
    "def get_age(self):\n",
    "    return self.__age\n",
    "def get__roll_number(self):\n",
    "    return self.__roll_number"
   ]
  },
  {
   "cell_type": "code",
   "execution_count": 43,
   "id": "8da02392-b7dc-4a8b-9728-1616961a89cc",
   "metadata": {},
   "outputs": [],
   "source": [
    "#implement setter methods for the attributes.\n",
    "def set_name(self,name):\n",
    "    self.__name = name\n",
    "def set_age(self,age):\n",
    "    self.__age = age\n",
    "def set_roll_number(self,roll_number):\n",
    "    self.__roll_number = roll_number"
   ]
  },
  {
   "cell_type": "code",
   "execution_count": 44,
   "id": "130722a5-5bf9-47a2-8148-b80d11cabbdb",
   "metadata": {},
   "outputs": [],
   "source": [
    "# write methods to display student information\n",
    "def display_info(self):\n",
    "    print(f\"Name :{self.__name}\")\n",
    "    print(f\"age :{self__Age}\")\n",
    "    print(f\"roll_number: {self.__roll_number}\")"
   ]
  },
  {
   "cell_type": "code",
   "execution_count": 45,
   "id": "e7b86d78-f138-4d50-a0a6-8e8d245d4b81",
   "metadata": {},
   "outputs": [],
   "source": [
    "#update details\n",
    "def update_details(self,name= None, age = None, roll_number = None):\n",
    "    if name:\n",
    "        self.set_name(name)\n",
    "    if age:\n",
    "        self.set_age(age)\n",
    "    if roll_number:\n",
    "        self.set_roll_number(roll_number)"
   ]
  },
  {
   "cell_type": "code",
   "execution_count": 46,
   "id": "0de365b0-2e0f-46ee-8fbb-dcb106ae637f",
   "metadata": {},
   "outputs": [],
   "source": [
    "# create instances of the 'Student' class and test the implemented functoinallity.\n",
    "student1 = Student(\"suppi\",22,\"SU001\")\n",
    "student2 = Student(\"noshmi\",5,\"SU002\")\n",
    "student3 = Student(\"sharvik\",27,\"SU003\")"
   ]
  },
  {
   "cell_type": "code",
   "execution_count": null,
   "id": "bfd7ac9f-73a4-4fee-891c-eda00cbbef23",
   "metadata": {},
   "outputs": [],
   "source": [
    "print(\"initial Student inforamtion:\")\n",
    "student1.display_info()\n",
    "student2.display_info()\n",
    "student3.display_info()"
   ]
  },
  {
   "cell_type": "code",
   "execution_count": null,
   "id": "3de2d553-39ed-4293-92db-10913049a2c6",
   "metadata": {},
   "outputs": [],
   "source": [
    "#3.Develop a python program for managing library resources efficiently. Design a class named'LibraryBook' with attributes like book name, author,and availability status.\n",
    "Implement methods for borrowing and returning books while ensuring proper encapsulation of attributes.\n",
    "Tasks:\n",
    "#1. create the 'LibraryBook' class with encapsulated attributes.\n",
    "#2.Implement methods for borrowing and returning books.\n",
    "#3. Ensure proper encapsulation to protect book details.\n",
    "#4. Test the borrowing and returning functionality wiht sample data."
   ]
  },
  {
   "cell_type": "code",
   "execution_count": 56,
   "id": "31324247-a559-4451-ad9a-2a60c22d98a2",
   "metadata": {},
   "outputs": [],
   "source": [
    "#1. create the 'LibraryBook' class with encapsulated attributes.\n",
    "class LibraryBook:\n",
    "    def __init__(self, book_name,author):\n",
    "        self.__book_name = book_name\n",
    "        self.__author = author\n",
    "        self.__is_avaiable = True\n",
    "    def get_book_name(self):\n",
    "        return self.__book_name\n",
    "    def get_author(self):\n",
    "        return self.__author\n",
    "    def is_available(self):\n",
    "        return self.__is_available"
   ]
  },
  {
   "cell_type": "code",
   "execution_count": 96,
   "id": "b446fc4b-42bb-43ae-96e5-54f54af24de8",
   "metadata": {},
   "outputs": [],
   "source": [
    "#2.Implement methods for borrowing and returning books.\n",
    "\n",
    "def borrow_book(self):\n",
    "    if self.__is_available:\n",
    "        self.__is_available = False\n",
    "        print(f\"you have borrowed :'{self.__book_name}'.\")\n",
    "    else:\n",
    "        print(f\"sorry,'{self.__book_name}' :is currently not available\")"
   ]
  },
  {
   "cell_type": "code",
   "execution_count": 90,
   "id": "4cabbf91-7140-4b18-a9ce-2884508ec7a5",
   "metadata": {},
   "outputs": [],
   "source": [
    "def return_book(self):\n",
    "    if not self.__is_available:\n",
    "        self.__is_available = True\n",
    "        print(f\"you have returned: '{self.__book_name}'.\")\n",
    "    else:\n",
    "        print(f\"{self.__book_name}': was not borrowed.\")"
   ]
  },
  {
   "cell_type": "code",
   "execution_count": 91,
   "id": "f6fcde27-5408-4dfc-87b5-65ab21a12762",
   "metadata": {},
   "outputs": [],
   "source": [
    "#3. Ensure proper encapsulation to protect book details.\n",
    "class LibraryBook:\n",
    "    def display_info(self):\n",
    "        availability_status = 'available' if self.__is_available else \"Not available\"\n",
    "        print(f\"book name: {self.__book_name}\")\n",
    "        print(f\"author: {self.__author}\")\n",
    "        print(f\"availability: {availability_status}\")"
   ]
  },
  {
   "cell_type": "raw",
   "id": "8d418ab8-adcd-4f60-add9-47305f83a735",
   "metadata": {},
   "source": [
    "book1 = LibraryBook(\"1991\",\"Guido Van Rossam\")\n",
    "book2 = LibraryBook(\"bhagavathgeetha\",\"ganesha\")\n",
    "book3 = LibraryBook(\"ramayanam\",\"valmiki\")"
   ]
  },
  {
   "cell_type": "raw",
   "id": "c2a7af8b-8851-4b0a-a1e5-321823b50903",
   "metadata": {},
   "source": [
    "print(\"Initial Book Information:\")\n",
    "book1.display_info()\n",
    "book2.display_info()\n",
    "book3.display_info()"
   ]
  },
  {
   "cell_type": "raw",
   "id": "07e318d0-ad1b-49c0-b9dd-f1eadc9f9b04",
   "metadata": {},
   "source": [
    "#4. Test the borrowing and returning functionality wiht sample data.\n",
    "print(\"\\n Borrowing books:\")\n",
    "book1.borrow_book()\n",
    "book2.borrow_book()\n",
    "book3.borrow_book()"
   ]
  },
  {
   "cell_type": "raw",
   "id": "3434702b-6678-4c5d-a09d-7de908cebe5b",
   "metadata": {},
   "source": [
    "print(\"\\nReturning Books:\")\n",
    "book1.return_book()\n",
    "book2.return_book()\n",
    "book2.return_book()"
   ]
  },
  {
   "cell_type": "code",
   "execution_count": null,
   "id": "29a1aa05-04d6-43f7-b63c-52ee12b7693b",
   "metadata": {},
   "outputs": [],
   "source": [
    "print(\"\\nUpdated Book Information:\")\n",
    "book1.display_info()\n",
    "book2.display_info()"
   ]
  },
  {
   "cell_type": "code",
   "execution_count": null,
   "id": "756bae7f-389b-4ef3-a4fe-7726574cfc33",
   "metadata": {},
   "outputs": [],
   "source": [
    "#Q4. create a simple banking system using object-oriented concepts inmpython. Design classes representing different types of bank accounts such as savings and checkings.\n",
    "#Implement methods for deposit, wihtdraw, and balanceinquiry. utilize inheritance to manage different account types efficiently.\n",
    "tasks:\n",
    "#a) define base classes for ban accounts with common attributes and methods.\n",
    "#b) implement subclasses for specific account typesm(e.g., SavingAccount,ChekingAccount).\n",
    "#c) Provide methods for deposit, withdraw, and balnace inquiry in each cubclass.\n",
    "#d) Test the banking system by creating instances of different account types and performing transactions."
   ]
  },
  {
   "cell_type": "code",
   "execution_count": 62,
   "id": "d61e775f-7e6e-4dd3-a64d-e412a7257b88",
   "metadata": {},
   "outputs": [],
   "source": [
    "#a) define base classes for ban accounts with common attributes and methods.\n",
    "class BankAccount:\n",
    "    def __init__(self, account_number, account_holder, balance=0.0):\n",
    "        self.account_number = account_number\n",
    "        self.account_holder = account_holder\n",
    "        self.balance = balance\n",
    "\n",
    "    def deposit(self, amount):\n",
    "        if amount > 0:\n",
    "            self.balance += amount\n",
    "            print(f\"Deposited {amount:.2f}. New balance: {self.balance:.2f}\")\n",
    "        else:\n",
    "            print(\"Deposit amount must be positive.\")\n",
    "\n",
    "    def withdraw(self, amount):\n",
    "        if 0 < amount <= self.balance:\n",
    "            self.balance -= amount\n",
    "            print(f\"Withdrew {amount:.2f}. New balance: {self.balance:.2f}\")\n",
    "        else:\n",
    "            print(\"Withdrawal amount must be positive and less than or equal to the balance.\")\n",
    "\n",
    "    def balance_inquiry(self):\n",
    "        print(f\"Account balance: {self.balance:.2f}\")\n",
    "        return self.balance"
   ]
  },
  {
   "cell_type": "code",
   "execution_count": 63,
   "id": "721f1f4d-1672-4f93-9df7-a3f1c476de69",
   "metadata": {},
   "outputs": [],
   "source": [
    "#b) implement subclasses for specific account types(e.g., SavingAccount,ChekingAccount).\n",
    "class SavingsAccount(BankAccount):\n",
    "    def __init__(self, account_number, account_holder, balance=0.0, interest_rate=0.02):\n",
    "        super().__init__(account_number, account_holder, balance)\n",
    "        self.interest_rate = interest_rate\n",
    "\n",
    "    def add_interest(self):\n",
    "        interest = self.balance * self.interest_rate\n",
    "        self.balance += interest\n",
    "        print(f\"Interest added: {interest:.2f}. New balance: {self.balance:.2f}\")\n",
    "\n",
    "class CheckingAccount(BankAccount):\n",
    "    def __init__(self, account_number, account_holder, balance=0.0, overdraft_limit=500.0):\n",
    "        super().__init__(account_number, account_holder, balance)\n",
    "        self.overdraft_limit = overdraft_limit\n",
    "\n",
    "    def withdraw(self, amount):\n",
    "        if 0 < amount <= self.balance + self.overdraft_limit:\n",
    "            self.balance -= amount\n",
    "            print(f\"Withdrew {amount:.2f}. New balance: {self.balance:.2f}\")\n",
    "        else:\n",
    "            print(\"Withdrawal amount exceeds the overdraft limit.\")"
   ]
  },
  {
   "cell_type": "code",
   "execution_count": 64,
   "id": "5d1a59f6-0bcf-4798-bd64-f32218341731",
   "metadata": {},
   "outputs": [
    {
     "name": "stdout",
     "output_type": "stream",
     "text": [
      "\n",
      "Savings Account Transactions:\n",
      "Deposited 200.00. New balance: 1200.00\n",
      "Withdrew 150.00. New balance: 1050.00\n",
      "Account balance: 1050.00\n",
      "Interest added: 21.00. New balance: 1071.00\n",
      "Account balance: 1071.00\n",
      "\n",
      "Checking Account Transactions:\n",
      "Deposited 300.00. New balance: 800.00\n",
      "Withdrew 700.00. New balance: 100.00\n",
      "Account balance: 100.00\n",
      "Withdrew 200.00. New balance: -100.00\n"
     ]
    }
   ],
   "source": [
    "#c) Provide methods for deposit, withdraw, and balnace inquiry in each cubclass.\n",
    "#d) Test the banking system by creating instances of different account types and performing transactions.\n",
    "savings_account = SavingsAccount(\"SA12345\", \"Suppi\", 1000.0)\n",
    "checking_account = CheckingAccount(\"CA67890\", \"Prassu\", 500.0)\n",
    "print(\"\\nSavings Account Transactions:\")\n",
    "savings_account.deposit(200.0)\n",
    "savings_account.withdraw(150.0)\n",
    "savings_account.balance_inquiry()\n",
    "savings_account.add_interest()\n",
    "savings_account.balance_inquiry()\n",
    "print(\"\\nChecking Account Transactions:\")\n",
    "checking_account.deposit(300.0)\n",
    "checking_account.withdraw(700.0)\n",
    "checking_account.balance_inquiry()\n",
    "checking_account.withdraw(200.0)"
   ]
  },
  {
   "cell_type": "code",
   "execution_count": null,
   "id": "2d463f7e-1e05-4cd1-a3d8-8926a3b43789",
   "metadata": {},
   "outputs": [],
   "source": [
    "#Q5. write a python program that models different animals and their sounds. Design a base class called 'Animal' wiht a method 'make_sound()'. \n",
    "#Create subclasses like 'Dog' and 'Cat' that override the 'make_sound()' method to produce appropriate sounds.\n",
    "tasks:\n",
    "#a) Define the 'Animal' class with a method 'make_sound()'.\n",
    "#b) Create subclasses 'Dog' and 'Cat' that override the 'make_sound()' method.\n",
    "#c) Implement the sound generation logic for each subclass.\n",
    "#d) Test the program by creating instances of'Dog' and'Cat' and calling the 'make_sound()' method."
   ]
  },
  {
   "cell_type": "code",
   "execution_count": 65,
   "id": "b5c08dfa-6ac4-4754-9ead-f22aa36a0c1d",
   "metadata": {},
   "outputs": [],
   "source": [
    "#a) Define the 'Animal' class with a method 'make_sound()'.\n",
    "class Animal:\n",
    "    def make_sound(self):\n",
    "        pass "
   ]
  },
  {
   "cell_type": "code",
   "execution_count": 66,
   "id": "8bec567f-4cb8-4464-ac43-18fcc6a7f513",
   "metadata": {},
   "outputs": [],
   "source": [
    "#b) Create subclasses 'Dog' and 'Cat' that override the 'make_sound()' method.\n",
    "class Dog(Animal):\n",
    "    def make_sound(self):\n",
    "        print(\"woof! woof!\")\n",
    "class Cat(Animal):\n",
    "    def make_sound(self):\n",
    "        print(\"Meow! Meow!\")"
   ]
  },
  {
   "cell_type": "code",
   "execution_count": 67,
   "id": "7f210274-d523-45fd-a770-074a0149bd79",
   "metadata": {},
   "outputs": [
    {
     "name": "stdout",
     "output_type": "stream",
     "text": [
      "make_sound:\n",
      "woof! woof!\n",
      "make_sound:\n",
      "Meow! Meow!\n"
     ]
    }
   ],
   "source": [
    "#c) Implement the sound generation logic for each subclass.\n",
    "dog = Dog()\n",
    "cat = Cat()\n",
    "print(\"make_sound:\")\n",
    "dog.make_sound()\n",
    "print(\"make_sound:\")\n",
    "cat.make_sound()"
   ]
  },
  {
   "cell_type": "code",
   "execution_count": 68,
   "id": "52e74545-ea31-416e-91f4-1bd55502d829",
   "metadata": {},
   "outputs": [
    {
     "name": "stdout",
     "output_type": "stream",
     "text": [
      "make_sound:\n",
      "Woof! woof!\n",
      "make_sound:\n",
      "Meow! Meow!\n"
     ]
    }
   ],
   "source": [
    "#d) Test the program by creating instances of'Dog' and'Cat' and calling the 'make_sound()' method.\n",
    "class Animal:\n",
    "    def make_sound(self):\n",
    "        pass\n",
    "class Dog(Animal):\n",
    "    def make_sound(self):\n",
    "        print(\"Woof! woof!\")\n",
    "class Cat(Animal):\n",
    "    def make_sound(self):\n",
    "        print(\"Meow! Meow!\")\n",
    "dog = Dog()\n",
    "cat = Cat()\n",
    "print(\"make_sound:\")\n",
    "dog.make_sound()\n",
    "print(\"make_sound:\")\n",
    "cat.make_sound()"
   ]
  },
  {
   "cell_type": "code",
   "execution_count": null,
   "id": "2a0e01e2-1c66-4faf-8ba0-69bf3e6230d6",
   "metadata": {},
   "outputs": [],
   "source": [
    "#Q6. write a code for restaurant management system using oops:\n",
    "# create a menuitem class that has attributes such as name, description, price, and category.\n",
    "# Implement methods to add a new menu item, update menu item information, and remove a menu item from the menu.\n",
    "#use encapsulation to hide the menu item's unique identification number.\n",
    "# inherit from the menuitem class to create a fooditem class and a beverageltem class, each with their own specific attributes and methods."
   ]
  },
  {
   "cell_type": "code",
   "execution_count": 69,
   "id": "2afa751f-94ab-453d-81c6-24829d5246af",
   "metadata": {},
   "outputs": [],
   "source": [
    "# create a menuitem class that has attributes such as name, description, price, and category.\n",
    "class MenuItem:\n",
    "    _id_counter = 1  # Class attribute for generating unique IDs\n",
    "    def __init__(self, name, description, price, category):\n",
    "        self._id = MenuItem._id_counter\n",
    "        MenuItem._id_counter += 1\n",
    "        self.name = name\n",
    "        self.description = description\n",
    "        self.price = price\n",
    "        self.category = category\n",
    "    def get_id(self):\n",
    "        return self._id\n",
    "    def update(self, name=None, description=None, price=None, category=None):\n",
    "        if name:\n",
    "            self.name = name\n",
    "        if description:\n",
    "            self.description = description\n",
    "        if price:\n",
    "            self.price = price\n",
    "        if category:\n",
    "            self.category = category\n",
    "    def display(self):\n",
    "        return f\"ID: {self._id}, Name: {self.name}, Description: {self.description}, Price: ${self.price:.2f}, Category: {self.category}\""
   ]
  },
  {
   "cell_type": "code",
   "execution_count": 87,
   "id": "34245f69-9471-47c3-8b58-754d2fd53bf8",
   "metadata": {},
   "outputs": [],
   "source": [
    "class FoodItem(MenuItem):\n",
    "    def __init__(self, name, description, price, category, is_vegetarian=False):\n",
    "        super().__init__(name, description, price, category)\n",
    "        self.is_vegetarian = is_vegetarian\n",
    "    def display(self):\n",
    "        veg_status = \"Vegetarian\" if self.is_vegetarian else \"Non-Vegetarian\"\n",
    "        return super().display() + f\", Veg Status:{veg_status}\"\n",
    "class BeverageItem(MenuItem):\n",
    "    def __init__(self, name, description, price, category, is_alcoholic=False):\n",
    "        super().__init__(name, description, price, category)\n",
    "        self.is_alcoholic = is_alcoholic\n",
    "    def display(self):\n",
    "        alc_status = \"Alcoholic\" if self.is_alcoholic else \"Non-Alcoholic\"\n",
    "        return super().display() + f\", Alc Status:{alc_status}\""
   ]
  },
  {
   "cell_type": "code",
   "execution_count": 74,
   "id": "5773126b-1686-4662-82e7-9628a71dd816",
   "metadata": {},
   "outputs": [],
   "source": [
    "# Implement methods to add a new menu item, update menu item information, and remove a menu item from the menu.\n",
    "class RestaurantMenu:\n",
    "    def __init__(self):\n",
    "        self.menu_items = []\n",
    "\n",
    "    def add_menu_item(self, item):\n",
    "        self.menu_items.append(item)\n",
    "        print(f\"Added: {item.display()}\")\n",
    "\n",
    "    def update_menu_item(self, item_id, **kwargs):\n",
    "        item = self.find_menu_item(item_id)\n",
    "        if item:\n",
    "            item.update(**kwargs)\n",
    "            print(f\"Updated: {item.display()}\")\n",
    "        else:\n",
    "            print(\"Item not found.\")\n",
    "\n",
    "    def remove_menu_item(self, item_id):\n",
    "        item = self.find_menu_item(item_id)\n",
    "        if item:\n",
    "            self.menu_items.remove(item)\n",
    "            print(f\"Removed: {item.display()}\")\n",
    "        else:\n",
    "            print(\"Item not found.\")\n",
    "    def find_menu_item(self, item_id):\n",
    "        for item in self.menu_items:\n",
    "            if item.get_id() == item_id:\n",
    "                return item\n",
    "        return None\n",
    "\n",
    "    def display_menu(self):\n",
    "        print(\"Menu:\")\n",
    "        for item in self.menu_items:\n",
    "            print(item.display())\n"
   ]
  },
  {
   "cell_type": "code",
   "execution_count": 88,
   "id": "d7862a78-acde-404e-82c5-b7a8bb326947",
   "metadata": {},
   "outputs": [
    {
     "name": "stdout",
     "output_type": "stream",
     "text": [
      "Added: ID: 1, Name: Pasta, Description: Creamy Alfredo Pasta, Price: $12.99, Category: Main Course, Veg Status:Vegetarian\n",
      "Added: ID: 2, Name: Steak, Description: Grilled Ribeye Steak, Price: $24.99, Category: Main Course, Veg Status:Non-Vegetarian\n",
      "Added: ID: 3, Name: Coke, Description: Chilled Coca-Cola, Price: $20.00, Category: Soft Drink, Alc Status:Non-Alcoholic\n",
      "Added: ID: 4, Name: Wine, Description: Red Wine, Price: $25.50, Category: Alcoholic Beverage, Alc Status:Alcoholic\n",
      "Menu:\n",
      "ID: 1, Name: Pasta, Description: Creamy Alfredo Pasta, Price: $12.99, Category: Main Course, Veg Status:Vegetarian\n",
      "ID: 2, Name: Steak, Description: Grilled Ribeye Steak, Price: $24.99, Category: Main Course, Veg Status:Non-Vegetarian\n",
      "ID: 3, Name: Coke, Description: Chilled Coca-Cola, Price: $20.00, Category: Soft Drink, Alc Status:Non-Alcoholic\n",
      "ID: 4, Name: Wine, Description: Red Wine, Price: $25.50, Category: Alcoholic Beverage, Alc Status:Alcoholic\n"
     ]
    }
   ],
   "source": [
    "restaurant_menu = RestaurantMenu()\n",
    "food1 = FoodItem(name=\"Pasta\", description=\"Creamy Alfredo Pasta\", price=12.99, category=\"Main Course\", is_vegetarian=True)\n",
    "food2 = FoodItem(name=\"Steak\", description=\"Grilled Ribeye Steak\", price=24.99, category=\"Main Course\", is_vegetarian=False)\n",
    "beverage1 = BeverageItem(name=\"Coke\", description=\"Chilled Coca-Cola\", price=20.0, category=\"Soft Drink\", is_alcoholic=False)\n",
    "beverage2 = BeverageItem(name=\"Wine\", description=\"Red Wine\", price=25.5, category=\"Alcoholic Beverage\", is_alcoholic=True)\n",
    "restaurant_menu.add_menu_item(food1)\n",
    "restaurant_menu.add_menu_item(food2)\n",
    "restaurant_menu.add_menu_item(beverage1)\n",
    "restaurant_menu.add_menu_item(beverage2)\n",
    "restaurant_menu.display_menu()"
   ]
  },
  {
   "cell_type": "code",
   "execution_count": 81,
   "id": "e1c95c23-2d09-4486-9300-2ebb9d71d5f4",
   "metadata": {},
   "outputs": [],
   "source": [
    "#Q7.write a code hotel management system using oops:\n",
    "# crete a room class that has attributes such as room number, room type, rate, and availability(private).\n",
    "#implement methods to book a room, check in aguest, and check out a guest.\n",
    "# use encapsulation to hide the room's unique identification number.\n",
    "# inherit from the Room class to create a suiteroom class and a standardroom class, ech wiht their own specific attributes and methods."
   ]
  },
  {
   "cell_type": "code",
   "execution_count": 82,
   "id": "ae91b0bf-f430-4aff-90bb-08f7d28f5ab9",
   "metadata": {},
   "outputs": [],
   "source": [
    "class Room:\n",
    "    _id_counter = 1 \n",
    "    def __init__(self, room_number, room_type, rate):\n",
    "        self._id = Room._id_counter\n",
    "        Room._id_counter += 1\n",
    "        self.room_number = room_number\n",
    "        self.room_type = room_type\n",
    "        self.rate = rate\n",
    "        self._is_available = True\n",
    "\n",
    "    def get_id(self):\n",
    "        return self._id\n",
    "\n",
    "    def is_available(self):\n",
    "        return self._is_available\n",
    "\n",
    "    def book_room(self):\n",
    "        if self._is_available:\n",
    "            self._is_available = False\n",
    "            print(f\"Room {self.room_number} booked successfully.\")\n",
    "        else:\n",
    "            print(f\"Room {self.room_number} is already booked.\")\n",
    "    def check_in(self):\n",
    "        if not self._is_available:\n",
    "            print(f\"Room {self.room_number} checked in successfully.\")\n",
    "        else:\n",
    "            print(f\"Room {self.room_number} is not booked yet.\")\n",
    "\n",
    "    def check_out(self):\n",
    "        if not self._is_available:\n",
    "            self._is_available = True\n",
    "            print(f\"Room {self.room_number} checked out successfully.\")\n",
    "        else:\n",
    "            print(f\"Room {self.room_number} is not booked yet.\")\n",
    "\n",
    "    def __str__(self):\n",
    "        availability = \"Available\" if self._is_available else \"Not Available\"\n",
    "        return f\"ID: {self._id}, Room Number: {self.room_number}, Type: {self.room_type}, Rate: ${self.rate:.2f}, Availability: {availability}\""
   ]
  },
  {
   "cell_type": "code",
   "execution_count": 83,
   "id": "78387a5d-0e35-4db4-aee7-eff6174aa2bb",
   "metadata": {},
   "outputs": [],
   "source": [
    "class SuiteRoom(Room):\n",
    "    def __init__(self, room_number, rate, has_balcony):\n",
    "        super().__init__(room_number, \"Suite\", rate)\n",
    "        self.has_balcony = has_balcony\n",
    "    def __str__(self):\n",
    "        balcony = \"Yes\" if self.has_balcony else \"No\"\n",
    "        return super().__str__() + f\", Balcony: {balcony}\"\n",
    "class StandardRoom(Room):\n",
    "    def __init__(self, room_number, rate, has_wifi):\n",
    "        super().__init__(room_number, \"Standard\", rate)\n",
    "        self.has_wifi = has_wifi\n",
    "    def __str__(self):\n",
    "        wifi = \"Yes\" if self.has_wifi else \"No\"\n",
    "        return super().__str__() + f\", WiFi: {wifi}\""
   ]
  },
  {
   "cell_type": "code",
   "execution_count": 84,
   "id": "5868f545-4b18-4778-a09c-e71188bb092d",
   "metadata": {},
   "outputs": [],
   "source": [
    "class HotelManagementSystem:\n",
    "    def __init__(self):\n",
    "        self.rooms = []\n",
    "    def add_room(self, room):\n",
    "        self.rooms.append(room)\n",
    "        print(f\"Added: {room}\")\n",
    "    def find_room_by_number(self, room_number):\n",
    "        for room in self.rooms:\n",
    "            if room.room_number == room_number:\n",
    "                return room\n",
    "        return None\n",
    "    def display_rooms(self):\n",
    "        print(\"Rooms:\")\n",
    "        for room in self.rooms:\n",
    "            print(room)\n",
    "    def book_room(self, room_number):\n",
    "        room = self.find_room_by_number(room_number)\n",
    "        if room:\n",
    "            room.book_room()\n",
    "        else:\n",
    "            print(f\"Room {room_number} not found.\")\n",
    "    def check_in(self, room_number):\n",
    "        room = self.find_room_by_number(room_number)\n",
    "        if room:\n",
    "            room.check_in()\n",
    "        else:\n",
    "            print(f\"Room {room_number} not found.\")\n",
    "    def check_out(self, room_number):\n",
    "        room = self.find_room_by_number(room_number)\n",
    "        if room:\n",
    "            room.check_out()\n",
    "        else:\n",
    "            print(f\"Room {room_number} not found.\")"
   ]
  },
  {
   "cell_type": "code",
   "execution_count": 85,
   "id": "aa1e94cc-5042-49f6-b14c-7346636ff5e1",
   "metadata": {},
   "outputs": [
    {
     "name": "stdout",
     "output_type": "stream",
     "text": [
      "Added: ID: 1, Room Number: 101, Type: Suite, Rate: $2000.00, Availability: Available, Balcony: Yes\n",
      "Added: ID: 2, Room Number: 102, Type: Standard, Rate: $1000.00, Availability: Available, WiFi: Yes\n",
      "Rooms:\n",
      "ID: 1, Room Number: 101, Type: Suite, Rate: $2000.00, Availability: Available, Balcony: Yes\n",
      "ID: 2, Room Number: 102, Type: Standard, Rate: $1000.00, Availability: Available, WiFi: Yes\n",
      "Room 101 booked successfully.\n",
      "Room 101 checked in successfully.\n",
      "Room 101 checked out successfully.\n",
      "Room 101 booked successfully.\n",
      "Rooms:\n",
      "ID: 1, Room Number: 101, Type: Suite, Rate: $2000.00, Availability: Not Available, Balcony: Yes\n",
      "ID: 2, Room Number: 102, Type: Standard, Rate: $1000.00, Availability: Available, WiFi: Yes\n"
     ]
    }
   ],
   "source": [
    "hotel = HotelManagementSystem()\n",
    "suite = SuiteRoom(room_number=101, rate=2000.00, has_balcony=True)\n",
    "standard = StandardRoom(room_number=102, rate=1000.00, has_wifi=True)\n",
    "hotel.add_room(suite)\n",
    "hotel.add_room(standard)\n",
    "hotel.display_rooms()\n",
    "hotel.book_room(101)\n",
    "hotel.check_in(101)\n",
    "hotel.check_out(101)\n",
    "hotel.book_room(101)\n",
    "hotel.display_rooms()"
   ]
  },
  {
   "cell_type": "code",
   "execution_count": 100,
   "id": "340eb0ac-d04f-4286-b7f3-3df5f7a3b403",
   "metadata": {},
   "outputs": [],
   "source": [
    "#Q8. write a code for fitness club management system using oops:\n",
    "# crate a member class that has attributes such as home, age,membership type, and membership status (private).\n",
    "# implement methods to register a new member, renew a membership, and cancel a membership.\n",
    "# use encapsulation to hide the members unique identification number.\n",
    "# inherit from the member class to create a familymember class and an individualmember class, each with their own specific attributes and methods."
   ]
  },
  {
   "cell_type": "code",
   "execution_count": 101,
   "id": "1489381c-e2a0-4d94-bdf3-6c9348ef50d5",
   "metadata": {},
   "outputs": [],
   "source": [
    "class Member:\n",
    "    _id_counter = 1  # Class attribute for generating unique IDs\n",
    "    def __init__(self, name, age, membership_type):\n",
    "        self._id = Member._id_counter\n",
    "        Member._id_counter += 1\n",
    "        self.name = name\n",
    "        self.age = age\n",
    "        self.membership_type = membership_type\n",
    "        self._membership_status = \"Active\"\n",
    "    def get_id(self):\n",
    "        return self._id\n",
    "    def get_membership_status(self):\n",
    "        return self._membership_status\n",
    "    def register(self):\n",
    "        self._membership_status = \"Active\"\n",
    "        print(f\"Member {self.name} (ID: {self._id}) registered successfully.\")\n",
    "    def renew_membership(self):\n",
    "        if self._membership_status == \"Active\":\n",
    "            print(f\"Membership for {self.name} (ID: {self._id}) is already active.\")\n",
    "        else:\n",
    "            self._membership_status = \"Active\"\n",
    "            print(f\"Membership for {self.name} (ID: {self._id}) renewed successfully.\")\n",
    "    def cancel_membership(self):\n",
    "        if self._membership_status == \"Cancelled\":\n",
    "            print(f\"Membership for {self.name} (ID: {self._id}) is already cancelled.\")\n",
    "        else:\n",
    "            self._membership_status = \"Cancelled\"\n",
    "            print(f\"Membership for {self.name} (ID: {self._id}) cancelled successfully.\")\n",
    "    def __str__(self):\n",
    "        return f\"ID: {self._id}, Name: {self.name}, Age: {self.age}, Membership Type: {self.membership_type}, Status: {self._membership_status}\""
   ]
  },
  {
   "cell_type": "code",
   "execution_count": null,
   "id": "083e1d3f-179f-4829-8925-ccae7663a659",
   "metadata": {},
   "outputs": [],
   "source": [
    "class Member:\n",
    "    _id_counter = 1  # Class attribute for generating unique IDs\n",
    "    def __init__(self, name, age, membership_type):\n",
    "        self._id = Member._id_counter\n",
    "        Member._id_counter += 1\n",
    "        self.name = name\n",
    "        self.age = age\n",
    "        self.membership_type = membership_type\n",
    "        self._membership_status = \"Active\"\n",
    "    def get_id(self):\n",
    "        return self._id\n",
    "    def get_membership_status(self):\n",
    "        return self._membership_status\n",
    "    def register(self):\n",
    "        self._membership_status = \"Active\"\n",
    "        print(f\"Member {self.name} (ID: {self._id}) registered successfully.\")\n",
    "    def renew_membership(self):\n",
    "        if self._membership_status == \"Active\":\n",
    "            print(f\"Membership for {self.name} (ID: {self._id}) is already active.\")\n",
    "        else:\n",
    "            self._membership_status = \"Active\"\n",
    "            print(f\"Membership for {self.name} (ID: {self._id}) renewed successfully.\")\n",
    "    def cancel_membership(self):\n",
    "        if self._membership_status == \"Cancelled\":\n",
    "            print(f\"Membership for {self.name} (ID: {self._id}) is already cancelled.\")\n",
    "        else:\n",
    "            self._membership_status = \"Cancelled\"\n",
    "            print(f\"Membership for {self.name} (ID: {self._id}) cancelled successfully.\")\n",
    "    def __str__(self):\n",
    "        return f\"ID: {self._id}, Name: {self.name}, Age: {self.age}, Membership Type: {self.membership_type}, Status: {self._membership_status}\""
   ]
  },
  {
   "cell_type": "code",
   "execution_count": 102,
   "id": "b49515f2-fa7a-493c-ad30-eef54c631927",
   "metadata": {},
   "outputs": [],
   "source": [
    "class FamilyMember(Member):\n",
    "    def __init__(self, name, age, family_size):\n",
    "        super().__init__(name, age, \"Family\")\n",
    "        self.family_size = family_size\n",
    "    def __str__(self):\n",
    "        return super().__str__() + f\", Family Size: {self.family_size}\"\n",
    "class IndividualMember(Member):\n",
    "    def __init__(self, name, age, personal_trainer):\n",
    "        super().__init__(name, age, \"Individual\")\n",
    "        self.personal_trainer = personal_trainer\n",
    "    def __str__(self):\n",
    "        trainer = \"Yes\" if self.personal_trainer else \"No\"\n",
    "        return super().__str__() + f\", Personal Trainer: {trainer}\""
   ]
  },
  {
   "cell_type": "code",
   "execution_count": 103,
   "id": "8491a605-6abe-4b0e-b679-efbd029eff34",
   "metadata": {},
   "outputs": [],
   "source": [
    "class FitnessClubManagementSystem:\n",
    "    def __init__(self):\n",
    "        self.members = []\n",
    "    def add_member(self, member):\n",
    "        self.members.append(member)\n",
    "        print(f\"Added: {member}\")\n",
    "    def find_member_by_id(self, member_id):\n",
    "        for member in self.members:\n",
    "            if member.get_id() == member_id:\n",
    "                return member\n",
    "        return None\n",
    "    def display_members(self):\n",
    "        print(\"Members:\")\n",
    "        for member in self.members:\n",
    "            print(member)\n",
    "    def register_member(self, member_id):\n",
    "        member = self.find_member_by_id(member_id)\n",
    "        if member:\n",
    "            member.register()\n",
    "        else:\n",
    "            print(f\"Member with ID {member_id} not found.\")\n",
    "    def renew_membership(self, member_id):\n",
    "        member = self.find_member_by_id(member_id)\n",
    "        if member:\n",
    "            member.renew_membership()\n",
    "        else:\n",
    "            print(f\"Member with ID {member_id} not found.\")\n",
    "    def cancel_membership(self, member_id):\n",
    "        member = self.find_member_by_id(member_id)\n",
    "        if member:\n",
    "            member.cancel_membership()\n",
    "        else:\n",
    "            print(f\"Member with ID {member_id} not found.\")"
   ]
  },
  {
   "cell_type": "code",
   "execution_count": 104,
   "id": "951b031a-c215-40e0-96cd-00e913a2cb6c",
   "metadata": {},
   "outputs": [
    {
     "name": "stdout",
     "output_type": "stream",
     "text": [
      "Added: ID: 1, Name: supriya reddy, Age: 35, Membership Type: Family, Status: Active, Family Size: 4\n",
      "Added: ID: 2, Name: prasanna kumari, Age: 28, Membership Type: Individual, Status: Active, Personal Trainer: Yes\n",
      "Members:\n",
      "ID: 1, Name: supriya reddy, Age: 35, Membership Type: Family, Status: Active, Family Size: 4\n",
      "ID: 2, Name: prasanna kumari, Age: 28, Membership Type: Individual, Status: Active, Personal Trainer: Yes\n",
      "Member supriya reddy (ID: 1) registered successfully.\n",
      "Membership for prasanna kumari (ID: 2) is already active.\n",
      "Membership for supriya reddy (ID: 1) cancelled successfully.\n",
      "Members:\n",
      "ID: 1, Name: supriya reddy, Age: 35, Membership Type: Family, Status: Cancelled, Family Size: 4\n",
      "ID: 2, Name: prasanna kumari, Age: 28, Membership Type: Individual, Status: Active, Personal Trainer: Yes\n"
     ]
    }
   ],
   "source": [
    "fitness_club = FitnessClubManagementSystem()\n",
    "suppi = FamilyMember(name=\"supriya reddy\", age=35, family_size=4)\n",
    "prassu= IndividualMember(name=\"prasanna kumari\", age=28, personal_trainer=True)\n",
    "fitness_club.add_member(suppi)\n",
    "fitness_club.add_member(prassu)\n",
    "fitness_club.display_members()\n",
    "fitness_club.register_member(suppi.get_id())\n",
    "fitness_club.renew_membership(prassu.get_id())\n",
    "fitness_club.cancel_membership(suppi.get_id())\n",
    "fitness_club.display_members()"
   ]
  },
  {
   "cell_type": "code",
   "execution_count": 105,
   "id": "4ebfab42-2168-4924-b4ee-f47e488e39b7",
   "metadata": {},
   "outputs": [],
   "source": [
    "#Q9.write a code for Event Management System using Oops:\n",
    "# create an event class that has attributes such as name, date, time, location, and list of attendees(private).\n",
    "# implement methods to create a new event, add or remove attendees, and get the total number of attendees.\n",
    "# use encapsulation to hide the event's unique identification number.\n",
    "# inherit from the event class to create a privateEvent class and a PublicEvent class, each with their own specific attributes and methods."
   ]
  },
  {
   "cell_type": "code",
   "execution_count": 106,
   "id": "fc004b7d-0bf0-40ca-94a4-ce3892cdba69",
   "metadata": {},
   "outputs": [],
   "source": [
    "class Event:\n",
    "    _id_counter = 1  \n",
    "    def __init__(self, name, date, time, location):\n",
    "        self._id = Event._id_counter\n",
    "        Event._id_counter += 1\n",
    "        self.name = name\n",
    "        self.date = date\n",
    "        self.time = time\n",
    "        self.location = location\n",
    "        self._attendees = []\n",
    "    def get_id(self):\n",
    "        return self._id\n",
    "    def add_attendee(self, attendee):\n",
    "        self._attendees.append(attendee)\n",
    "        print(f\"Attendee {attendee} added to event {self.name}.\")\n",
    "    def remove_attendee(self, attendee):\n",
    "        if attendee in self._attendees:\n",
    "            self._attendees.remove(attendee)\n",
    "            print(f\"Attendee {attendee} removed from event {self.name}.\")\n",
    "        else:\n",
    "            print(f\"Attendee {attendee} not found in event {self.name}.\")\n",
    "    def get_total_attendees(self):\n",
    "        return len(self._attendees)\n",
    "    def __str__(self):\n",
    "        return f\"ID: {self._id}, Name: {self.name}, Date: {self.date}, Time: {self.time}, Location: {self.location}, Attendees: {self.get_total_attendees()}\""
   ]
  },
  {
   "cell_type": "code",
   "execution_count": 107,
   "id": "34345082-f305-494d-99ca-0ecdedcc986a",
   "metadata": {},
   "outputs": [],
   "source": [
    "class PrivateEvent(Event):\n",
    "    def __init__(self, name, date, time, location, invitation_only):\n",
    "        super().__init__(name, date, time, location)\n",
    "        self.invitation_only = invitation_only\n",
    "    def __str__(self):\n",
    "        invitation = \"Yes\" if self.invitation_only else \"No\"\n",
    "        return super().__str__() + f\", Invitation Only: {invitation}\"\n",
    "class PublicEvent(Event):\n",
    "    def __init__(self, name, date, time, location, public_access):\n",
    "        super().__init__(name, date, time, location)\n",
    "        self.public_access = public_access\n",
    "    def __str__(self):\n",
    "        access = \"Yes\" if self.public_access else \"No\"\n",
    "        return super().__str__() + f\", Public Access: {access}\""
   ]
  },
  {
   "cell_type": "code",
   "execution_count": 108,
   "id": "51ebdfc3-9d94-446f-8018-6f3fac9d2930",
   "metadata": {},
   "outputs": [],
   "source": [
    "class EventManagementSystem:\n",
    "    def __init__(self):\n",
    "        self.events = []\n",
    "    def create_event(self, event):\n",
    "        self.events.append(event)\n",
    "        print(f\"Created: {event}\")\n",
    "    def find_event_by_id(self, event_id):\n",
    "        for event in self.events:\n",
    "            if event.get_id() == event_id:\n",
    "                return event\n",
    "        return None\n",
    "    def display_events(self):\n",
    "        print(\"Events:\")\n",
    "        for event in self.events:\n",
    "            print(event)\n",
    "    def add_attendee(self, event_id, attendee):\n",
    "        event = self.find_event_by_id(event_id)\n",
    "        if event:\n",
    "            event.add_attendee(attendee)\n",
    "        else:\n",
    "            print(f\"Event with ID {event_id} not found.\")\n",
    "    def remove_attendee(self, event_id, attendee):\n",
    "        event = self.find_event_by_id(event_id)\n",
    "        if event:\n",
    "            event.remove_attendee(attendee)\n",
    "        else:\n",
    "            print(f\"Event with ID {event_id} not found.\")"
   ]
  },
  {
   "cell_type": "code",
   "execution_count": 109,
   "id": "0b126402-c338-43c8-aa85-5a843b9f3515",
   "metadata": {},
   "outputs": [
    {
     "name": "stdout",
     "output_type": "stream",
     "text": [
      "Created: ID: 1, Name: sharvin's Birthday, Date: 2024-08-01, Time: 18:00, Location: sharvin's House, Attendees: 0, Invitation Only: Yes\n",
      "Created: ID: 2, Name: Summer Concert, Date: 2024-07-25, Time: 20:00, Location: City Park, Attendees: 0, Public Access: Yes\n",
      "Events:\n",
      "ID: 1, Name: sharvin's Birthday, Date: 2024-08-01, Time: 18:00, Location: sharvin's House, Attendees: 0, Invitation Only: Yes\n",
      "ID: 2, Name: Summer Concert, Date: 2024-07-25, Time: 20:00, Location: City Park, Attendees: 0, Public Access: Yes\n",
      "Attendee noshmi added to event sharvin's Birthday.\n",
      "Attendee vikki added to event Summer Concert.\n",
      "Attendee noshmi removed from event sharvin's Birthday.\n",
      "Events:\n",
      "ID: 1, Name: sharvin's Birthday, Date: 2024-08-01, Time: 18:00, Location: sharvin's House, Attendees: 0, Invitation Only: Yes\n",
      "ID: 2, Name: Summer Concert, Date: 2024-07-25, Time: 20:00, Location: City Park, Attendees: 1, Public Access: Yes\n"
     ]
    }
   ],
   "source": [
    "event_system = EventManagementSystem()\n",
    "birthday = PrivateEvent(name=\"sharvin's Birthday\", date=\"2024-08-01\", time=\"18:00\", location=\"sharvin's House\", invitation_only=True)\n",
    "concert = PublicEvent(name=\"Summer Concert\", date=\"2024-07-25\", time=\"20:00\", location=\"City Park\", public_access=True)\n",
    "event_system.create_event(birthday)\n",
    "event_system.create_event(concert)\n",
    "event_system.display_events()\n",
    "event_system.add_attendee(birthday.get_id(), \"noshmi\")\n",
    "event_system.add_attendee(concert.get_id(), \"vikki\")\n",
    "event_system.remove_attendee(birthday.get_id(), \"noshmi\")\n",
    "event_system.display_events()"
   ]
  },
  {
   "cell_type": "code",
   "execution_count": 110,
   "id": "7de80a14-e80b-45e1-858e-9e519cc2f067",
   "metadata": {},
   "outputs": [],
   "source": [
    "#Q10. write a code for Airline Reservation System using oops:\n",
    "# create a flight class that has attributes such as flight number, departure and arrival airports, departure and arrival times, and available seats(private).\n",
    "# implement methods to book a seat, cancel a reservation, and get the remaining available seats.\n",
    "# use encapsulation to hide the flight's unique identification number.\n",
    "# inherit from the flight class to create a DomesticFlight class and an internationalFlightclass, each with their own specific attributes and methods."
   ]
  },
  {
   "cell_type": "code",
   "execution_count": 111,
   "id": "91005fba-5da2-458e-b81e-c4d32f22d40d",
   "metadata": {},
   "outputs": [],
   "source": [
    "class Flight:\n",
    "    _id_counter = 1  \n",
    "    def __init__(self, flight_number, departure_airport, arrival_airport, departure_time, arrival_time, total_seats):\n",
    "        self._id = Flight._id_counter\n",
    "        Flight._id_counter += 1\n",
    "        self.flight_number = flight_number\n",
    "        self.departure_airport = departure_airport\n",
    "        self.arrival_airport = arrival_airport\n",
    "        self.departure_time = departure_time\n",
    "        self.arrival_time = arrival_time\n",
    "        self._available_seats = total_seats\n",
    "    def get_id(self):\n",
    "        return self._id\n",
    "    def book_seat(self):\n",
    "        if self._available_seats > 0:\n",
    "            self._available_seats -= 1\n",
    "            print(f\"Seat booked on flight {self.flight_number}. Remaining seats: {self._available_seats}.\")\n",
    "        else:\n",
    "            print(f\"No available seats on flight {self.flight_number}.\")\n",
    "    def cancel_reservation(self):\n",
    "        self._available_seats += 1\n",
    "        print(f\"Reservation cancelled on flight {self.flight_number}. Remaining seats: {self._available_seats}.\")\n",
    "    def get_remaining_seats(self):\n",
    "        return self._available_seats\n",
    "    def __str__(self):\n",
    "        return (f\"Flight Number: {self.flight_number}, Departure: {self.departure_airport} at {self.departure_time}, \"\n",
    "                f\"Arrival: {self.arrival_airport} at {self.arrival_time}, Available Seats: {self._available_seats}\")"
   ]
  },
  {
   "cell_type": "code",
   "execution_count": 112,
   "id": "09cac3e9-ba21-4dcb-b54e-37718d1bce52",
   "metadata": {},
   "outputs": [],
   "source": [
    "class DomesticFlight(Flight):\n",
    "    def __init__(self, flight_number, departure_airport, arrival_airport, departure_time, arrival_time, total_seats, in_flight_meal):\n",
    "        super().__init__(flight_number, departure_airport, arrival_airport, departure_time, arrival_time, total_seats)\n",
    "        self.in_flight_meal = in_flight_meal\n",
    "    def __str__(self):\n",
    "        meal = \"Yes\" if self.in_flight_meal else \"No\"\n",
    "        return super().__str__() + f\", In-flight Meal: {meal}\"\n",
    "class InternationalFlight(Flight):\n",
    "    def __init__(self, flight_number, departure_airport, arrival_airport, departure_time, arrival_time, total_seats, visa_required):\n",
    "        super().__init__(flight_number, departure_airport, arrival_airport, departure_time, arrival_time, total_seats)\n",
    "        self.visa_required = visa_required\n",
    "    def __str__(self):\n",
    "        visa = \"Yes\" if self.visa_required else \"No\"\n",
    "        return super().__str__() + f\", Visa Required: {visa}\""
   ]
  },
  {
   "cell_type": "code",
   "execution_count": 113,
   "id": "d0d70c10-e06f-4817-8b89-69f27e5bfa20",
   "metadata": {},
   "outputs": [],
   "source": [
    "class AirlineReservationSystem:\n",
    "    def __init__(self):\n",
    "        self.flights = []\n",
    "    def add_flight(self, flight):\n",
    "        self.flights.append(flight)\n",
    "        print(f\"Added: {flight}\")\n",
    "    def find_flight_by_id(self, flight_id):\n",
    "        for flight in self.flights:\n",
    "            if flight.get_id() == flight_id:\n",
    "                return flight\n",
    "        return None\n",
    "    def display_flights(self):\n",
    "        print(\"Flights:\")\n",
    "        for flight in self.flights:\n",
    "            print(flight)\n",
    "    def book_seat(self, flight_id):\n",
    "        flight = self.find_flight_by_id(flight_id)\n",
    "        if flight:\n",
    "            flight.book_seat()\n",
    "        else:\n",
    "            print(f\"Flight with ID {flight_id} not found.\")\n",
    "    def cancel_reservation(self, flight_id):\n",
    "        flight = self.find_flight_by_id(flight_id)\n",
    "        if flight:\n",
    "            flight.cancel_reservation()\n",
    "        else:\n",
    "            print(f\"Flight with ID {flight_id} not found.\")"
   ]
  },
  {
   "cell_type": "code",
   "execution_count": 114,
   "id": "110f19bf-5e1d-4c51-87c4-c717b5655f10",
   "metadata": {},
   "outputs": [
    {
     "name": "stdout",
     "output_type": "stream",
     "text": [
      "Added: Flight Number: AA101, Departure: DEL at 2024-08-01 09:00, Arrival: LAX at 2024-08-01 12:00, Available Seats: 150, In-flight Meal: Yes\n",
      "Added: Flight Number: BA202, Departure: USA at 2024-07-25 15:00, Arrival: USA at 2024-07-25 18:00, Available Seats: 200, Visa Required: Yes\n",
      "Flights:\n",
      "Flight Number: AA101, Departure: DEL at 2024-08-01 09:00, Arrival: LAX at 2024-08-01 12:00, Available Seats: 150, In-flight Meal: Yes\n",
      "Flight Number: BA202, Departure: USA at 2024-07-25 15:00, Arrival: USA at 2024-07-25 18:00, Available Seats: 200, Visa Required: Yes\n",
      "Seat booked on flight AA101. Remaining seats: 149.\n",
      "Seat booked on flight BA202. Remaining seats: 199.\n",
      "Reservation cancelled on flight AA101. Remaining seats: 150.\n",
      "Flights:\n",
      "Flight Number: AA101, Departure: DEL at 2024-08-01 09:00, Arrival: LAX at 2024-08-01 12:00, Available Seats: 150, In-flight Meal: Yes\n",
      "Flight Number: BA202, Departure: USA at 2024-07-25 15:00, Arrival: USA at 2024-07-25 18:00, Available Seats: 199, Visa Required: Yes\n"
     ]
    }
   ],
   "source": [
    "airline_system = AirlineReservationSystem()\n",
    "domestic = DomesticFlight(flight_number=\"AA101\", departure_airport=\"DEL\", arrival_airport=\"LAX\", departure_time=\"2024-08-01 09:00\", arrival_time=\"2024-08-01 12:00\", total_seats=150, in_flight_meal=True)\n",
    "international = InternationalFlight(flight_number=\"BA202\", departure_airport=\"USA\", arrival_airport=\"USA\", departure_time=\"2024-07-25 15:00\", arrival_time=\"2024-07-25 18:00\", total_seats=200, visa_required=True)\n",
    "airline_system.add_flight(domestic)\n",
    "airline_system.add_flight(international)\n",
    "airline_system.display_flights()\n",
    "airline_system.book_seat(domestic.get_id())\n",
    "airline_system.book_seat(international.get_id())\n",
    "airline_system.cancel_reservation(domestic.get_id())\n",
    "airline_system.display_flights()"
   ]
  },
  {
   "cell_type": "code",
   "execution_count": 5,
   "id": "595727d0-4a8e-4f19-8b4a-6d84a5df26d0",
   "metadata": {},
   "outputs": [],
   "source": [
    "#11 define a python module named constants.py containing constants like pi and the speed of light.\n",
    "\"\"\" In programming, a constant refers to the name associated with a value that never changes during the programming execution.\"\"\"\n",
    "\n",
    "with open('my_constants.py', 'w') as file:\n",
    "    file.write('''# Mathematical constants\n",
    "PI = 3.141592653589793\n",
    "\n",
    "# Physical constants\n",
    "SPEED_OF_LIGHT = 299792458  # in meters per second (m/s)''')"
   ]
  },
  {
   "cell_type": "code",
   "execution_count": 4,
   "id": "33e0de36-3eb3-4609-98d0-08c8af3a76e2",
   "metadata": {},
   "outputs": [
    {
     "name": "stdout",
     "output_type": "stream",
     "text": [
      "The value of pi is: 3.141592653589793\n",
      "The speed of light is: 299792458 m/s\n"
     ]
    }
   ],
   "source": [
    "from my_constants import PI, SPEED_OF_LIGHT\n",
    "\n",
    "print(\"The value of pi is:\", PI)\n",
    "print(\"The speed of light is:\", SPEED_OF_LIGHT, \"m/s\")"
   ]
  },
  {
   "cell_type": "code",
   "execution_count": 6,
   "id": "91174c0e-1747-4611-9b4a-a83c7f30eb66",
   "metadata": {},
   "outputs": [],
   "source": [
    "#Q12. write a python module named calculator.py containing functions for addition, substraction,multiplication , and division.\n",
    "# calculator.py\n",
    "with open ('calculator.py', 'w') as file:\n",
    "    file.write('''\n",
    "def add(a, b):\n",
    "    \"\"\"Return the sum of a and b.\"\"\"\n",
    "    return a + b\n",
    "\n",
    "def subtract(a, b):\n",
    "    \"\"\"Return the difference of a and b.\"\"\"\n",
    "    return a - b\n",
    "\n",
    "def multiply(a, b):\n",
    "    \"\"\"Return the product of a and b.\"\"\"\n",
    "    return a * b\n",
    "\n",
    "def divide(a, b):\n",
    "    \"\"\"Return the division of a by b. Raise an error if b is zero.\"\"\"\n",
    "    if b == 0:\n",
    "        raise ValueError(\"Cannot divide by zero!\")\n",
    "    return a / b\n",
    "''')"
   ]
  },
  {
   "cell_type": "code",
   "execution_count": 8,
   "id": "f6afba08-5903-4bd5-8ca8-013460a9dabf",
   "metadata": {},
   "outputs": [
    {
     "name": "stdout",
     "output_type": "stream",
     "text": [
      "Addition of 10 and 5: 15\n",
      "Subtraction of 10 and 5: 5\n",
      "Multiplication of 10 and 5: 50\n",
      "Division of 10 by 5: 2.0\n",
      "Cannot divide by zero!\n"
     ]
    }
   ],
   "source": [
    "from Calculator import add, subtract, multiply, divide\n",
    "\n",
    "# Test the functions\n",
    "print(\"Addition of 10 and 5:\", add(10, 5))\n",
    "print(\"Subtraction of 10 and 5:\", subtract(10, 5))\n",
    "print(\"Multiplication of 10 and 5:\", multiply(10, 5))\n",
    "print(\"Division of 10 by 5:\", divide(10, 5))\n",
    "\n",
    "# Demonstrating division by zero error\n",
    "try:\n",
    "    divide(10, 0)\n",
    "except ValueError as e:\n",
    "    print(e)"
   ]
  },
  {
   "cell_type": "code",
   "execution_count": 1,
   "id": "05bcf1af-ca06-469e-a723-cd4ec417e218",
   "metadata": {},
   "outputs": [],
   "source": [
    "#Q13.implement a python package structure for a project named ecommerce, containing modules for product management and order processing.\n",
    "class Product:\n",
    "    def __init__(self, product_id, name, price):\n",
    "        self.product_id = product_id\n",
    "        self.name = name\n",
    "        self.price = price\n",
    "    def __repr__(self):\n",
    "        return f\"Product(id={self.product_id}, name={self.name}, price={self.price})\"\n",
    "class Inventory:\n",
    "    def __init__(self):\n",
    "        self.products = {}\n",
    "    def add_product(self, product, quantity):\n",
    "        self.products[product.product_id] = {'product': product, 'quantity': quantity}\n",
    "    def get_stock(self, product_id):\n",
    "        return self.products.get(product_id, {'quantity': 0})['quantity']"
   ]
  },
  {
   "cell_type": "code",
   "execution_count": 2,
   "id": "52c10c9a-a825-4d63-a649-8ec3b8cd336d",
   "metadata": {},
   "outputs": [],
   "source": [
    "class Order:\n",
    "    def __init__(self, order_id, product, quantity):\n",
    "        self.order_id = order_id\n",
    "        self.product = product\n",
    "        self.quantity = quantity\n",
    "    def __repr__(self):\n",
    "        return f\"Order(id={self.order_id}, product={self.product}, quantity={self.quantity})\"\n",
    "class Payment:\n",
    "    def __init__(self, payment_id, order, amount):\n",
    "        self.payment_id = payment_id\n",
    "        self.order = order\n",
    "        self.amount = amount\n",
    "    def __repr__(self):\n",
    "        return f\"Payment(id={self.payment_id}, order={self.order}, amount={self.amount})\"\n",
    "def calculate_total_price(product, quantity):\n",
    "    return product.price * quantity"
   ]
  },
  {
   "cell_type": "code",
   "execution_count": null,
   "id": "1b5bed2f-6429-4295-9094-23e81f9a2335",
   "metadata": {},
   "outputs": [],
   "source": [
    "import unittest\n",
    "from ecommerce.product_management.products import Product\n",
    "class TestProduct(unittest.TestCase):\n",
    "    def test_product_creation(self):\n",
    "        product = Product(1, \"Test Product\", 10.99)\n",
    "        self.assertEqual(product.product_id, 1)\n",
    "        self.assertEqual(product.name, \"Test Product\")\n",
    "        self.assertEqual(product.price, 10.99)\n",
    "if __name__ == '__main__':\n",
    "    unittest.main()"
   ]
  },
  {
   "cell_type": "code",
   "execution_count": null,
   "id": "f54f07f8-ca82-4d31-ad29-58628c632826",
   "metadata": {},
   "outputs": [],
   "source": [
    "import unittest\n",
    "from ecommerce.product_management.products import Product\n",
    "from ecommerce.product_management.inventory import Inventory\n",
    "class TestInventory(unittest.TestCase):\n",
    "    def test_add_product(self):\n",
    "        inventory = Inventory()\n",
    "        product = Product(1, \"Test Product\", 10.99)\n",
    "        inventory.add_product(product, 5)\n",
    "        self.assertEqual(inventory.get_stock(1), 5)\n",
    "if __name__ == '__main__':\n",
    "    unittest.main()"
   ]
  },
  {
   "cell_type": "code",
   "execution_count": null,
   "id": "293f00a5-d9fb-4f5b-9dfa-88831cecea5e",
   "metadata": {},
   "outputs": [],
   "source": [
    "import unittest\n",
    "from ecommerce.product_management.products import Product\n",
    "from ecommerce.order_processing.orders import Order\n",
    "class TestOrder(unittest.TestCase):\n",
    "    def test_order_creation(self):\n",
    "        product = Product(1, \"Test Product\", 10.99)\n",
    "        order = Order(1, product, 2)\n",
    "        self.assertEqual(order.order_id, 1)\n",
    "        self.assertEqual(order.product, product)\n",
    "        self.assertEqual(order.quantity, 2)\n",
    "if __name__ == '__main__':\n",
    "    unittest.main()"
   ]
  },
  {
   "cell_type": "code",
   "execution_count": null,
   "id": "3a48c8b6-bbce-453e-a519-8e5b918c9b73",
   "metadata": {},
   "outputs": [],
   "source": [
    "import unittest\n",
    "from ecommerce.product_management.products import Product\n",
    "from ecommerce.order_processing.orders import Order\n",
    "from ecommerce.order_processing.payments import Payment\n",
    "from ecommerce.utils import calculate_total_price\n",
    "class TestPayment(unittest.TestCase):\n",
    "    def test_payment_creation(self):\n",
    "        product = Product(1, \"Test Product\", 10.99)\n",
    "        order = Order(1, product, 2)\n",
    "        payment = Payment(1, order, calculate_total_price(product, 2))\n",
    "        self.assertEqual(payment.payment_id, 1)\n",
    "        self.assertEqual(payment.order, order)\n",
    "        self.assertEqual(payment.amount, 21.98)\n",
    "if __name__ == '__main__':\n",
    "    unittest.main()"
   ]
  },
  {
   "cell_type": "code",
   "execution_count": null,
   "id": "c06c1eff-cfd9-446b-865b-c177d4118c75",
   "metadata": {},
   "outputs": [],
   "source": [
    "from setuptools import setup, find_packages\n",
    "setup(\n",
    "    name='ecommerce',\n",
    "    version='0.1',\n",
    "    packages=find_packages(),\n",
    "    description='A simple ecommerce package for product management and order processing',\n",
    "    author='Your Name',\n",
    "    author_email='your.email@example.com',\n",
    "    url='https://github.com/yourusername/ecommerce',\n",
    "    classifiers=[\n",
    "        'Programming Language :: Python :: 3',\n",
    "        'License :: OSI Approved :: MIT License',\n",
    "        'Operating System :: OS Independent',\n",
    "    ],\n",
    "    python_requires='>=3.6',"
   ]
  },
  {
   "cell_type": "code",
   "execution_count": 9,
   "id": "7788644c-a9e1-4923-99bb-b63bb6fb9873",
   "metadata": {},
   "outputs": [],
   "source": [
    "#Q14.implement a python module named string_utils.py containing functions for string manipulation,such asreversing and capitalizing strings"
   ]
  },
  {
   "cell_type": "code",
   "execution_count": 10,
   "id": "8083d8d7-097b-4d81-a2b9-2b6aa622b74b",
   "metadata": {},
   "outputs": [],
   "source": [
    "with open('string_utils.py', 'w') as f:\n",
    "    f.write('''\n",
    "def reverse_string(s):\n",
    "    \"\"\"Return the reverse of the input string.\"\"\"\n",
    "    return s[::-1]\n",
    "\n",
    "def capitalize_string(s):\n",
    "    \"\"\"Return the input string with the first character capitalized and the rest lowercased.\"\"\"\n",
    "    return s.capitalize()\n",
    "\n",
    "def to_uppercase(s):\n",
    "    \"\"\"Return the input string in uppercase.\"\"\"\n",
    "    return s.upper()\n",
    "\n",
    "def to_lowercase(s):\n",
    "    \"\"\"Return the input string in lowercase.\"\"\"\n",
    "    return s.lower()\n",
    "\n",
    "def is_palindrome(s):\n",
    "    \"\"\"Check if the input string is a palindrome.\"\"\"\n",
    "    return s == s[::-1]\n",
    "    ''')"
   ]
  },
  {
   "cell_type": "code",
   "execution_count": 11,
   "id": "be3cbbf3-fe4f-4f12-8a13-2ebe48ae749d",
   "metadata": {},
   "outputs": [
    {
     "name": "stdout",
     "output_type": "stream",
     "text": [
      "Original string: hello\n",
      "Reversed string: olleh\n",
      "Capitalized string: Hello\n",
      "Uppercase string: HELLO\n",
      "Lowercase string: hello\n",
      "Is 'madam' a palindrome?: True\n"
     ]
    }
   ],
   "source": [
    "from string_utils import reverse_string, capitalize_string, to_uppercase, to_lowercase, is_palindrome\n",
    "\n",
    "# Test the functions\n",
    "test_string = \"hello\"\n",
    "\n",
    "print(\"Original string:\", test_string)\n",
    "print(\"Reversed string:\", reverse_string(test_string))\n",
    "print(\"Capitalized string:\", capitalize_string(test_string))\n",
    "print(\"Uppercase string:\", to_uppercase(test_string))\n",
    "print(\"Lowercase string:\", to_lowercase(test_string))\n",
    "\n",
    "palindrome_test = \"madam\"\n",
    "print(f\"Is '{palindrome_test}' a palindrome?:\", is_palindrome(palindrome_test))"
   ]
  },
  {
   "cell_type": "code",
   "execution_count": 12,
   "id": "86728f93-360b-4852-a240-d81079202324",
   "metadata": {},
   "outputs": [],
   "source": [
    "#Q15.write a python module named file_operations.py with functions for reading,writing,and appending data to a file."
   ]
  },
  {
   "cell_type": "code",
   "execution_count": 13,
   "id": "36c9c277-5c62-4b50-8058-b51c6644e7bc",
   "metadata": {},
   "outputs": [],
   "source": [
    "with open('file_operations.py', 'w') as f:\n",
    "    f.write('''\n",
    "def read_file(file_path):\n",
    "    \"\"\"Read the content of a file and return it as a string.\"\"\"\n",
    "    with open(file_path, 'r') as file:\n",
    "        return file.read()\n",
    "\n",
    "def write_file(file_path, data):\n",
    "    \"\"\"Write data to a file, overwriting any existing content.\"\"\"\n",
    "    with open(file_path, 'w') as file:\n",
    "        file.write(data)\n",
    "\n",
    "def append_to_file(file_path, data):\n",
    "    \"\"\"Append data to a file.\"\"\"\n",
    "    with open(file_path, 'a') as file:\n",
    "        file.write(data)\n",
    "    ''')"
   ]
  },
  {
   "cell_type": "code",
   "execution_count": 14,
   "id": "94926095-49ae-4c0c-a815-bd39a1197137",
   "metadata": {},
   "outputs": [
    {
     "name": "stdout",
     "output_type": "stream",
     "text": [
      "File content:\n",
      "Hello, this is a test file.\n",
      "Appending some more text.\n",
      "\n"
     ]
    }
   ],
   "source": [
    "from file_operations import read_file, write_file, append_to_file\n",
    "\n",
    "# Test the functions\n",
    "test_file = 'test_file.txt'\n",
    "\n",
    "# Write data to the file\n",
    "write_file(test_file, \"Hello, this is a test file.\\n\")\n",
    "\n",
    "# Append data to the file\n",
    "append_to_file(test_file, \"Appending some more text.\\n\")\n",
    "\n",
    "# Read the content of the file\n",
    "content = read_file(test_file)\n",
    "print(\"File content:\")\n",
    "print(content)"
   ]
  },
  {
   "cell_type": "code",
   "execution_count": 15,
   "id": "a3de1f47-5187-4afd-af0c-5163b6892bc8",
   "metadata": {},
   "outputs": [],
   "source": [
    "#Q16.write a python program to create a text file named\"employees.txt\" and write the details of employees,including their name, agae, and salary, into the file."
   ]
  },
  {
   "cell_type": "code",
   "execution_count": 16,
   "id": "1877a992-e50c-467d-9580-108811737f58",
   "metadata": {},
   "outputs": [],
   "source": [
    "employees = [\n",
    "    {\"name\": \"Pratishtha\", \"age\": 24, \"salary\": 50000},\n",
    "    {\"name\": \"Meenu\", \"age\": 27, \"salary\": 60000},\n",
    "    {\"name\": \"Tanmay\", \"age\": 25, \"salary\": 70000},\n",
    "    {\"name\": \"Sushil\", \"age\": 25, \"salary\": 80000},\n",
    "]\n",
    "\n",
    "with open('employees.txt', 'w') as file:\n",
    "    file.write(\"Name, Age, Salary\\n\")\n",
    "    for employee in employees:\n",
    "        file.write(f\"{employee['name']}, {employee['age']}, {employee['salary']}\\n\")"
   ]
  },
  {
   "cell_type": "markdown",
   "id": "9aa1f21f-6070-4696-a423-202e2ef75e4d",
   "metadata": {},
   "source": [
    "17. Develop a Python script that opens an existing text file named \"inventory.txt\" in read mode and displays the contents of the file line by line."
   ]
  },
  {
   "cell_type": "code",
   "execution_count": 17,
   "id": "f3653222-f95b-41e0-bebf-9b62ce7cf345",
   "metadata": {},
   "outputs": [],
   "source": [
    "story_content = \"\"\"\n",
    "The Thirsty Crow\n",
    "\n",
    "Once upon a time, there was a crow who was very thirsty. It searched for water everywhere but could not find any. After a long search, the crow finally saw a pitcher with a little water in it.\n",
    "\n",
    "The crow tried to drink the water but the pitcher was too deep and the water level was too low. The crow thought hard about how to get the water. Suddenly, it had an idea. It picked up some pebbles one by one and dropped them into the pitcher. \n",
    "\n",
    "With each pebble, the water level rose a little higher. Finally, the water was high enough for the crow to drink. The crow was very happy and quenched its thirst. It had solved the problem through clever thinking.\n",
    "\n",
    "The moral of the story is: Necessity is the mother of invention.\n",
    "\"\"\"\n",
    "\n",
    "# Write the content to the file\n",
    "with open('inventory.txt', 'w') as file:\n",
    "    file.write(story_content)"
   ]
  },
  {
   "cell_type": "code",
   "execution_count": 18,
   "id": "90a0d7fd-b6cb-430d-b6eb-ba7b2be02c51",
   "metadata": {},
   "outputs": [
    {
     "name": "stdout",
     "output_type": "stream",
     "text": [
      "\n",
      "The Thirsty Crow\n",
      "\n",
      "Once upon a time, there was a crow who was very thirsty. It searched for water everywhere but could not find any. After a long search, the crow finally saw a pitcher with a little water in it.\n",
      "\n",
      "The crow tried to drink the water but the pitcher was too deep and the water level was too low. The crow thought hard about how to get the water. Suddenly, it had an idea. It picked up some pebbles one by one and dropped them into the pitcher. \n",
      "\n",
      "With each pebble, the water level rose a little higher. Finally, the water was high enough for the crow to drink. The crow was very happy and quenched its thirst. It had solved the problem through clever thinking.\n",
      "\n",
      "The moral of the story is: Necessity is the mother of invention.\n"
     ]
    }
   ],
   "source": [
    "file_name = 'inventory.txt'\n",
    "\n",
    "# Open the file in read mode\n",
    "with open(file_name, 'r') as file:\n",
    "    # Read and display each line\n",
    "    for line in file:\n",
    "        print(line, end='')"
   ]
  },
  {
   "cell_type": "code",
   "execution_count": 19,
   "id": "b4e0fc5c-2e1f-4dd4-80f9-054af60e82bc",
   "metadata": {},
   "outputs": [],
   "source": [
    "#18. Create a Python script that reads a text file named \"expenses.txt\" and calculates the total amount spent on various expenses listed in the file."
   ]
  },
  {
   "cell_type": "code",
   "execution_count": 20,
   "id": "78ec639e-72a2-441a-9d40-5e75fcd48e2d",
   "metadata": {},
   "outputs": [],
   "source": [
    "# Create the expenses.txt file with sample content\n",
    "expenses_content = \"\"\"\n",
    "Groceries: 50.75\n",
    "Rent: 1200.00\n",
    "Utilities: 150.25\n",
    "Transportation: 75.40\n",
    "Entertainment: 60.00\n",
    "\"\"\"\n",
    "\n",
    "with open('expenses.txt', 'w') as file:\n",
    "    file.write(expenses_content)"
   ]
  },
  {
   "cell_type": "code",
   "execution_count": 21,
   "id": "bce256f0-727d-44e1-8b61-f17bcfb517bd",
   "metadata": {},
   "outputs": [
    {
     "name": "stdout",
     "output_type": "stream",
     "text": [
      "Total amount spent: $1536.40\n"
     ]
    }
   ],
   "source": [
    "def calculate_total_expenses(file_path):\n",
    "    total_amount = 0.0\n",
    "    \n",
    "    # Open the file in read mode\n",
    "    with open(file_path, 'r') as file:\n",
    "        # Read each line in the file\n",
    "        for line in file:\n",
    "            # Split the line into description and amount\n",
    "            parts = line.split(':')\n",
    "            if len(parts) == 2:\n",
    "                try:\n",
    "                    amount = float(parts[1].strip())\n",
    "                    total_amount += amount\n",
    "                except ValueError:\n",
    "                    print(f\"Error parsing amount: {parts[1].strip()}\")\n",
    "    \n",
    "    return total_amount\n",
    "\n",
    "# Specify the file name\n",
    "file_name = 'expenses.txt'\n",
    "\n",
    "# Calculate the total expenses\n",
    "total = calculate_total_expenses(file_name)\n",
    "\n",
    "# Print the total amount\n",
    "print(f\"Total amount spent: ${total:.2f}\")"
   ]
  },
  {
   "cell_type": "code",
   "execution_count": 22,
   "id": "7196b980-a3ff-4f06-b1d1-195ac009439c",
   "metadata": {},
   "outputs": [],
   "source": [
    "#Create a Python program that reads a text file named \"paragraph.txt\" and counts the occurrences of each word in the paragraph, displaying the results in alphabetical order."
   ]
  },
  {
   "cell_type": "code",
   "execution_count": 23,
   "id": "073fe826-8b4a-4a64-a800-13ae96b7d288",
   "metadata": {},
   "outputs": [],
   "source": [
    "# Create the paragraph.txt file with sample content\n",
    "paragraph_content = \"\"\"\n",
    "This is a sample paragraph. It contains several words, and some words are repeated. The goal is to count each word's occurrences and display the results.\n",
    "\"\"\"\n",
    "\n",
    "with open('paragraph.txt', 'w') as file:\n",
    "    file.write(paragraph_content)"
   ]
  },
  {
   "cell_type": "code",
   "execution_count": 24,
   "id": "c56e7f3c-e3e8-4cf0-8e72-69c18962bc6e",
   "metadata": {},
   "outputs": [
    {
     "name": "stdout",
     "output_type": "stream",
     "text": [
      "Word occurrences in alphabetical order:\n",
      "a: 1\n",
      "and: 2\n",
      "are: 1\n",
      "contains: 1\n",
      "count: 1\n",
      "display: 1\n",
      "each: 1\n",
      "goal: 1\n",
      "is: 2\n",
      "it: 1\n",
      "occurrences: 1\n",
      "paragraph: 1\n",
      "repeated: 1\n",
      "results: 1\n",
      "s: 1\n",
      "sample: 1\n",
      "several: 1\n",
      "some: 1\n",
      "the: 2\n",
      "this: 1\n",
      "to: 1\n",
      "word: 1\n",
      "words: 2\n"
     ]
    }
   ],
   "source": [
    "from collections import Counter\n",
    "import re\n",
    "\n",
    "def count_word_occurrences(file_path):\n",
    "    # Read the content of the file\n",
    "    with open(file_path, 'r') as file:\n",
    "        text = file.read()\n",
    "    \n",
    "    # Convert the text to lowercase to ensure case insensitivity\n",
    "    text = text.lower()\n",
    "    \n",
    "    # Use regex to find all words (including words with apostrophes)\n",
    "    words = re.findall(r'\\b\\w+\\b', text)\n",
    "    \n",
    "    # Count occurrences of each word using Counter\n",
    "    word_count = Counter(words)\n",
    "    \n",
    "    # Sort the word counts alphabetically\n",
    "    sorted_word_count = dict(sorted(word_count.items()))\n",
    "    \n",
    "    return sorted_word_count\n",
    "\n",
    "# Specify the file name\n",
    "file_name = 'paragraph.txt'\n",
    "\n",
    "# Count the word occurrences\n",
    "word_occurrences = count_word_occurrences(file_name)\n",
    "# Display the results\n",
    "print(\"Word occurrences in alphabetical order:\")\n",
    "for word, count in word_occurrences.items():\n",
    "    print(f\"{word}: {count}\")"
   ]
  },
  {
   "cell_type": "code",
   "execution_count": null,
   "id": "f413c187-69d1-4976-8abd-a70ed18fc55b",
   "metadata": {},
   "outputs": [],
   "source": [
    "#Q20.Calculate the coefficient of correlation between the marks obtained by 10 students in accountancy and statistics:\n",
    "Student        1         2        3       4       5       6      7    8      9      10\n",
    "Accountancy    45        70       65      30      90      40     50    75    85     60\n",
    "Statistics     35        90       70      40      95      40     60    80    80     50\n",
    "Use Karl Pearson coefficient of correlation method to find it."
   ]
  },
  {
   "cell_type": "code",
   "execution_count": 4,
   "id": "5dd9733a-19e1-4f25-b0f5-5b6920a32e1e",
   "metadata": {},
   "outputs": [
    {
     "name": "stdout",
     "output_type": "stream",
     "text": [
      "Pearson's correlation coefficient: 0.903\n"
     ]
    }
   ],
   "source": [
    "import numpy as np\n",
    "accountancy_marks = np.array([45, 70, 65, 30, 90, 40, 50, 75, 85, 60])\n",
    "statistics_marks = np.array([35, 90, 70, 40, 95, 40, 60, 80, 80, 50])\n",
    "n = len(accountancy_marks)\n",
    "sum_x = np.sum(accountancy_marks)\n",
    "sum_y = np.sum(statistics_marks)\n",
    "sum_x2 = np.sum(accountancy_marks ** 2)\n",
    "sum_y2 = np.sum(statistics_marks ** 2)\n",
    "sum_xy = np.sum(accountancy_marks * statistics_marks)\n",
    "numerator = n * sum_xy - sum_x * sum_y\n",
    "denominator = np.sqrt((n * sum_x2 - sum_x ** 2) * (n * sum_y2 - sum_y ** 2))\n",
    "r = numerator / denominator\n",
    "print(f\"Pearson's correlation coefficient: {r:.3f}\")"
   ]
  },
  {
   "cell_type": "code",
   "execution_count": 5,
   "id": "e9a5ce8b-5824-4693-ab32-a355c4659c43",
   "metadata": {},
   "outputs": [
    {
     "name": "stdout",
     "output_type": "stream",
     "text": [
      "the most likely price st delhi corresponding to a price of Rs. 70 at agra is Rs. 75.20\n"
     ]
    }
   ],
   "source": [
    "#Q26. Find the most likely price at Delhi corresponding to the price of Rs.70 at Agra from the following data: coefficient of correlation between the prices of the two places +0.8.\n",
    "def predicted_price_at_delhi(x,mean_x,mean_y,std_x,std_y,r):\n",
    "    return mean_y + (r*std_y / std_x)*(x-mean_x)\n",
    "mean_x = 75\n",
    "mean_y = 80\n",
    "std_x = 10\n",
    "std_y = 12\n",
    "r = 0.8\n",
    "x = 70\n",
    "predicted_price = predicted_price_at_delhi(x,mean_x,mean_y,std_x,std_y,r)\n",
    "print(f\"the most likely price st delhi corresponding to a price of Rs. {x} at agra is Rs. {predicted_price:.2f}\")"
   ]
  },
  {
   "cell_type": "code",
   "execution_count": 6,
   "id": "6169b50e-d7c6-4e32-ba5c-0638c60dfcab",
   "metadata": {},
   "outputs": [
    {
     "name": "stdout",
     "output_type": "stream",
     "text": [
      "Mean value of x: 9\n",
      "Mean value of y: 13.8\n",
      "Coefficient of correlation: 1.333\n",
      "Standard deviation of y: 15.479\n"
     ]
    }
   ],
   "source": [
    "#Q27. In a partially destroyed record of an analysis of correlation data, the following results are only legible: variable of x = 9, regression equations are (i) 8x-10y = -66; (ii) 40x – 18y = 214. What are (a) the mean values of x and y.(b) the coefficient of correlation between x and y.(c) the sigma of y?\n",
    "import numpy as np\n",
    "a1, b1, c1 = 8, -10, -66\n",
    "a2, b2, c2 = 40, -18, 214\n",
    "mean_x = 9\n",
    "mean_y = (a1 * mean_x - c1) / -b1\n",
    "slope_1 = -a1 / b1\n",
    "slope_2 = -a2 / b2\n",
    "r = np.sqrt(slope_1 * slope_2)\n",
    "sigma_x = np.sqrt(slope_1 * mean_x ** 2 - 2 * mean_x * mean_y + slope_2 * mean_y ** 2)\n",
    "print(f\"Mean value of x: {mean_x}\")\n",
    "print(f\"Mean value of y: {mean_y}\")\n",
    "print(f\"Coefficient of correlation: {r:.3f}\")\n",
    "print(f\"Standard deviation of y: {sigma_x:.3f}\")"
   ]
  },
  {
   "cell_type": "code",
   "execution_count": 7,
   "id": "df65df89-33a3-462b-ba61-b9895bc21b85",
   "metadata": {},
   "outputs": [
    {
     "name": "stdout",
     "output_type": "stream",
     "text": [
      "Percentage of items between 60 and 72: 38.49%\n",
      "Percentage of items between 50 and 60: 34.13%\n",
      "Percentage of items beyond 72: 11.51%\n",
      "Percentage of items between 70 and 80: 13.59%\n"
     ]
    }
   ],
   "source": [
    "#31.The mean of a distribution is 60 with a standard deviation of 10. Assuming that the distribution is normal, what percentage of items be \n",
    "#(i) between 60 and 72, (ii) between 50 snd 60, (iii) beyond 72 snd (iv) between 70 and 80?\n",
    "import scipy.stats as stats\n",
    "mean = 60\n",
    "std_dev = 10\n",
    "def percentage_between(lower, upper, mean, std_dev):\n",
    "    z_lower = (lower - mean) / std_dev\n",
    "    z_upper = (upper - mean) / std_dev\n",
    "    return (stats.norm.cdf(z_upper) - stats.norm.cdf(z_lower)) * 100\n",
    "def percentage_beyond(value, mean, std_dev):\n",
    "    z = (value - mean) / std_dev\n",
    "    return (1 - stats.norm.cdf(z)) * 100\n",
    "def percentage_below(value, mean, std_dev):\n",
    "    z = (value - mean) / std_dev\n",
    "    return stats.norm.cdf(z) * 100\n",
    "# (i) Between 60 and 72\n",
    "perc_between_60_72 = percentage_between(60, 72, mean, std_dev)\n",
    "print(f\"Percentage of items between 60 and 72: {perc_between_60_72:.2f}%\")\n",
    "# (ii) Between 50 and 60\n",
    "perc_between_50_60 = percentage_between(50, 60, mean, std_dev)\n",
    "print(f\"Percentage of items between 50 and 60: {perc_between_50_60:.2f}%\")\n",
    "# (iii) Beyond 72\n",
    "perc_beyond_72 = percentage_beyond(72, mean, std_dev)\n",
    "print(f\"Percentage of items beyond 72: {perc_beyond_72:.2f}%\")\n",
    "# (iv) Between 70 and 80\n",
    "perc_between_70_80 = percentage_between(70, 80, mean, std_dev)\n",
    "print(f\"Percentage of items between 70 and 80: {perc_between_70_80:.2f}%\")"
   ]
  },
  {
   "cell_type": "code",
   "execution_count": 8,
   "id": "9be08489-acea-43ff-a57f-d60a61aa4688",
   "metadata": {},
   "outputs": [
    {
     "name": "stdout",
     "output_type": "stream",
     "text": [
      "Proportion of students scoring more than 55 marks: 0.1587\n",
      "Proportion of students scoring more than 70 marks: 0.0002\n"
     ]
    }
   ],
   "source": [
    "#32.15000 students sat for an examination. The mean mark was 49  and the distribution of marks had a standard deviation of 6. Assuming that the marks were normally distributed what proportion of students scored \n",
    "#(a) more than 55 marks, (b) more than 70 marks\n",
    "import scipy.stats as stats\n",
    "mean = 49\n",
    "std_dev = 6\n",
    "def proportion_more_than(value, mean, std_dev):\n",
    "    z = (value - mean) / std_dev\n",
    "    return 1 - stats.norm.cdf(z)\n",
    "# (a) More than 55 marks\n",
    "prop_more_than_55 = proportion_more_than(55, mean, std_dev)\n",
    "print(f\"Proportion of students scoring more than 55 marks: {prop_more_than_55:.4f}\")\n",
    "# (b) More than 70 marks\n",
    "prop_more_than_70 = proportion_more_than(70, mean, std_dev)\n",
    "print(f\"Proportion of students scoring more than 70 marks: {prop_more_than_70:.4f}\")"
   ]
  },
  {
   "cell_type": "code",
   "execution_count": 9,
   "id": "439f0cf5-41c4-4a3f-b878-1e0c8a94681e",
   "metadata": {},
   "outputs": [
    {
     "name": "stdout",
     "output_type": "stream",
     "text": [
      "Number of students with height greater than 70 inches: 79\n",
      "Number of students with height between 60 and 70 inches: 341\n"
     ]
    }
   ],
   "source": [
    "#Q33.if the height of 500 students is normally distributed with mean 65 inches and a standard deviation 5 inches. \n",
    "#How many students have height: a) greater than 70 inches, b) between 60 and 70 inches.\n",
    "import scipy.stats as stats\n",
    "mean = 65\n",
    "std_dev = 5\n",
    "total_students = 500\n",
    "def number_more_than(value, mean, std_dev, total_students):\n",
    "    z = (value - mean) / std_dev\n",
    "    proportion = 1 - stats.norm.cdf(z)\n",
    "    return proportion * total_students\n",
    "def number_between(lower, upper, mean, std_dev, total_students):\n",
    "    z_lower = (lower - mean) / std_dev\n",
    "    z_upper = (upper - mean) / std_dev\n",
    "    proportion = stats.norm.cdf(z_upper) - stats.norm.cdf(z_lower)\n",
    "    return proportion * total_students\n",
    "# (a) Greater than 70 inches\n",
    "num_more_than_70 = number_more_than(70, mean, std_dev, total_students)\n",
    "print(f\"Number of students with height greater than 70 inches: {num_more_than_70:.0f}\")\n",
    "# (b) Between 60 and 70 inches\n",
    "num_between_60_and_70 = number_between(60, 70, mean, std_dev, total_students)\n",
    "print(f\"Number of students with height between 60 and 70 inches: {num_between_60_and_70:.0f}\")"
   ]
  },
  {
   "cell_type": "code",
   "execution_count": 10,
   "id": "e84815e1-4b4d-42c8-8487-f9ee6b165cf6",
   "metadata": {},
   "outputs": [
    {
     "name": "stdout",
     "output_type": "stream",
     "text": [
      "Chi-square statistic: 17.6327\n",
      "Critical values: 12.4012 (low), 39.3641 (high)\n",
      "P-value: 0.3591\n",
      "Fail to reject the null hypothesis: There is not enough evidence to suggest that the population standard deviation is not 10.5.\n"
     ]
    }
   ],
   "source": [
    "#Q36.a random sample of size 25 from a population gives the sample standard derivation to be 9.0.\n",
    "#test the hypothesis that the population standard deviation is 10.5\n",
    "import scipy.stats as stats\n",
    "n = 25  \n",
    "s = 9.0  \n",
    "sigma = 10.5 \n",
    "s_squared = s ** 2\n",
    "sigma_squared = sigma ** 2\n",
    "chi_square_statistic = (n - 1) * s_squared / sigma_squared\n",
    "df = n - 1\n",
    "p_value = 2 * min(stats.chi2.cdf(chi_square_statistic, df), 1 - stats.chi2.cdf(chi_square_statistic, df))\n",
    "alpha = 0.05\n",
    "chi2_critical_low = stats.chi2.ppf(alpha / 2, df)\n",
    "chi2_critical_high = stats.chi2.ppf(1 - alpha / 2, df)\n",
    "print(f\"Chi-square statistic: {chi_square_statistic:.4f}\")\n",
    "print(f\"Critical values: {chi2_critical_low:.4f} (low), {chi2_critical_high:.4f} (high)\")\n",
    "print(f\"P-value: {p_value:.4f}\")\n",
    "if chi_square_statistic < chi2_critical_low or chi_square_statistic > chi2_critical_high:\n",
    "    print(\"Reject the null hypothesis: There is enough evidence to suggest that the population standard deviation is not 10.5.\")\n",
    "else:\n",
    "    print(\"Fail to reject the null hypothesis: There is not enough evidence to suggest that the population standard deviation is not 10.5.\")"
   ]
  },
  {
   "cell_type": "code",
   "execution_count": 11,
   "id": "df9d61a3-724d-4564-aad6-d3d52e39f43e",
   "metadata": {},
   "outputs": [],
   "source": [
    "#Q37. 100 students of a PW IOI obtained the following grades in data science paper:\n",
    "#Grade :[A,B,C,D,E]\n",
    "#Total Frequency:[15,17,30,22,16,100]\n",
    "#Using the x^2 test, examine the hypothesis that the distribution of grades in uniform."
   ]
  },
  {
   "cell_type": "code",
   "execution_count": 12,
   "id": "c2e0088d-9bab-4266-9f31-b9e4e6d9503c",
   "metadata": {},
   "outputs": [
    {
     "name": "stdout",
     "output_type": "stream",
     "text": [
      "Chi-square statistic: 7.7000\n",
      "Critical value: 9.4877\n",
      "P-value: 0.1032\n",
      "Fail to reject the null hypothesis: There is not enough evidence to suggest that the distribution of grades is not uniform.\n"
     ]
    }
   ],
   "source": [
    "import scipy.stats as stats\n",
    "observed_frequencies = [15, 17, 30, 22, 16]\n",
    "total_students = 100\n",
    "num_grades = len(observed_frequencies)\n",
    "expected_frequency = total_students / num_grades\n",
    "chi_square_statistic = sum((obs - expected_frequency) ** 2 / expected_frequency for obs in observed_frequencies)\n",
    "df = num_grades - 1\n",
    "p_value = 1 - stats.chi2.cdf(chi_square_statistic, df)\n",
    "alpha = 0.05\n",
    "chi2_critical = stats.chi2.ppf(1 - alpha, df)\n",
    "print(f\"Chi-square statistic: {chi_square_statistic:.4f}\")\n",
    "print(f\"Critical value: {chi2_critical:.4f}\")\n",
    "print(f\"P-value: {p_value:.4f}\")\n",
    "if chi_square_statistic > chi2_critical:\n",
    "    print(\"Reject the null hypothesis: There is enough evidence to suggest that the distribution of grades is not uniform.\")\n",
    "else:\n",
    "    print(\"Fail to reject the null hypothesis: There is not enough evidence to suggest that the distribution of grades is not uniform.\")"
   ]
  },
  {
   "cell_type": "code",
   "execution_count": null,
   "id": "3278a27e-0d7f-4c1b-8e3a-e7113f2cb7f1",
   "metadata": {},
   "outputs": [],
   "source": [
    "#Q38.Anova Test\n",
    "To study the performance of three detergents and three different water temperatures the following whiteness readings were obtained with specially designed equipment.\n",
    "Water temp     Detergents A   Detergents B     Detergents C\n",
    "cold water         57            57               67\n",
    "Worm Water         49            52               68\n",
    "Hot water          54            46               58"
   ]
  },
  {
   "cell_type": "code",
   "execution_count": 13,
   "id": "cfddbe10-0ad5-4550-af39-91a76257b52c",
   "metadata": {},
   "outputs": [
    {
     "name": "stdout",
     "output_type": "stream",
     "text": [
      "F-statistic: 5.5368\n",
      "P-value: 0.0434\n",
      "Reject the null hypothesis: There is a significant difference between the mean whiteness readings of at least one detergent.\n"
     ]
    }
   ],
   "source": [
    "import scipy.stats as stats\n",
    "detergent_A = [57, 49, 54]  \n",
    "detergent_B = [57, 52, 46] \n",
    "detergent_C = [67, 68, 58]  \n",
    "f_statistic, p_value = stats.f_oneway(detergent_A, detergent_B, detergent_C)\n",
    "print(f\"F-statistic: {f_statistic:.4f}\")\n",
    "print(f\"P-value: {p_value:.4f}\")\n",
    "alpha = 0.05\n",
    "if p_value < alpha:\n",
    "    print(\"Reject the null hypothesis: There is a significant difference between the mean whiteness readings of at least one detergent.\")\n",
    "else:\n",
    "    print(\"Fail to reject the null hypothesis: There is no significant difference between the mean whiteness readings of the detergents.\")"
   ]
  }
 ],
 "metadata": {
  "kernelspec": {
   "display_name": "Python 3 (ipykernel)",
   "language": "python",
   "name": "python3"
  },
  "language_info": {
   "codemirror_mode": {
    "name": "ipython",
    "version": 3
   },
   "file_extension": ".py",
   "mimetype": "text/x-python",
   "name": "python",
   "nbconvert_exporter": "python",
   "pygments_lexer": "ipython3",
   "version": "3.10.8"
  }
 },
 "nbformat": 4,
 "nbformat_minor": 5
}
